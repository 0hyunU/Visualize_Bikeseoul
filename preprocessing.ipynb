{
  "nbformat": 4,
  "nbformat_minor": 0,
  "metadata": {
    "colab": {
      "name": "210514.ipynb",
      "provenance": [],
      "collapsed_sections": [],
      "toc_visible": true
    },
    "kernelspec": {
      "display_name": "Python 3",
      "name": "python3"
    },
    "language_info": {
      "name": "python"
    }
  },
  "cells": [
    {
      "cell_type": "markdown",
      "metadata": {
        "id": "DM2DGz9xvRxr"
      },
      "source": [
        "## 0. 필요 라이브러리 임포트 및 CSV파일 불러오기"
      ]
    },
    {
      "cell_type": "code",
      "metadata": {
        "id": "y2sodCxt6But"
      },
      "source": [
        "import pandas as pd\n",
        "import numpy as np\n",
        "import re\n",
        "from google.colab import drive\n",
        "import warnings\n",
        "warnings.filterwarnings(action='ignore') #경고메시지 숨기기\n"
      ],
      "execution_count": 1,
      "outputs": []
    },
    {
      "cell_type": "code",
      "metadata": {
        "colab": {
          "base_uri": "https://localhost:8080/"
        },
        "id": "z65JyA1x5qZo",
        "outputId": "f420cf85-1474-4dcd-97aa-e594a76d7c40"
      },
      "source": [
        "drive.mount('/content/gdrive/')"
      ],
      "execution_count": 4,
      "outputs": [
        {
          "output_type": "stream",
          "text": [
            "Drive already mounted at /content/gdrive/; to attempt to forcibly remount, call drive.mount(\"/content/gdrive/\", force_remount=True).\n"
          ],
          "name": "stdout"
        }
      ]
    },
    {
      "cell_type": "markdown",
      "metadata": {
        "id": "qAvhpkZAD4id"
      },
      "source": [
        "구글 코랩에서 한글 사용할 수 있게 처리"
      ]
    },
    {
      "cell_type": "code",
      "metadata": {
        "colab": {
          "base_uri": "https://localhost:8080/"
        },
        "id": "epwL0mdsD3oa",
        "outputId": "2b0d09ae-2ccb-493f-d4e3-9d398ea17fbc"
      },
      "source": [
        "!sudo apt-get install -y fonts-nanum\n",
        "!sudo fc-cache -fv\n",
        "!rm ~/.cache/matplotlib -rf"
      ],
      "execution_count": 3,
      "outputs": [
        {
          "output_type": "stream",
          "text": [
            "Reading package lists... Done\n",
            "Building dependency tree       \n",
            "Reading state information... Done\n",
            "fonts-nanum is already the newest version (20170925-1).\n",
            "The following package was automatically installed and is no longer required:\n",
            "  libnvidia-common-460\n",
            "Use 'sudo apt autoremove' to remove it.\n",
            "0 upgraded, 0 newly installed, 0 to remove and 34 not upgraded.\n",
            "/usr/share/fonts: caching, new cache contents: 0 fonts, 1 dirs\n",
            "/usr/share/fonts/truetype: caching, new cache contents: 0 fonts, 3 dirs\n",
            "/usr/share/fonts/truetype/humor-sans: caching, new cache contents: 1 fonts, 0 dirs\n",
            "/usr/share/fonts/truetype/liberation: caching, new cache contents: 16 fonts, 0 dirs\n",
            "/usr/share/fonts/truetype/nanum: caching, new cache contents: 10 fonts, 0 dirs\n",
            "/usr/local/share/fonts: caching, new cache contents: 0 fonts, 0 dirs\n",
            "/root/.local/share/fonts: skipping, no such directory\n",
            "/root/.fonts: skipping, no such directory\n",
            "/var/cache/fontconfig: cleaning cache directory\n",
            "/root/.cache/fontconfig: not cleaning non-existent cache directory\n",
            "/root/.fontconfig: not cleaning non-existent cache directory\n",
            "fc-cache: succeeded\n"
          ],
          "name": "stdout"
        }
      ]
    },
    {
      "cell_type": "code",
      "metadata": {
        "id": "-_3-Gt1lD4LI"
      },
      "source": [
        "import matplotlib.pyplot as plt\n",
        "plt.rc('font', family='NanumBarunGothic') "
      ],
      "execution_count": 5,
      "outputs": []
    },
    {
      "cell_type": "markdown",
      "metadata": {
        "id": "ErCzLYQ_yZ8_"
      },
      "source": [
        "대여 이력 정보 불러오기"
      ]
    },
    {
      "cell_type": "code",
      "metadata": {
        "colab": {
          "base_uri": "https://localhost:8080/"
        },
        "id": "sqqDRwhh6Vy5",
        "outputId": "3b011d54-ea58-4b36-be9b-99f96907c350"
      },
      "source": [
        "## 대여이력 정보 Import\n",
        "jan_20 = pd.read_csv('/content/gdrive/MyDrive/따릉이 20년 1년치 데이터/공공자전거 대여이력 정보_2020.01.csv', encoding='cp949')\n",
        "feb_20 = pd.read_csv('/content/gdrive/MyDrive/따릉이 20년 1년치 데이터/공공자전거 대여이력 정보_2020.02.csv', encoding='cp949')\n",
        "mar_20 = pd.read_csv('/content/gdrive/MyDrive/따릉이 20년 1년치 데이터/공공자전거 대여이력 정보_2020.03.csv', encoding='cp949')\n",
        "apr_20 = pd.read_csv('/content/gdrive/MyDrive/따릉이 20년 1년치 데이터/공공자전거 대여이력 정보_2020.04.csv', encoding='cp949')\n",
        "jun_20 = pd.read_csv('/content/gdrive/MyDrive/따릉이 20년 1년치 데이터/공공자전거 대여이력 정보_2020.06.csv', encoding='cp949')\n",
        "jul_aug_20 = pd.read_csv('/content/gdrive/MyDrive/따릉이 20년 1년치 데이터/공공자전거 대여이력 정보_2020.07_08.csv', encoding='cp949')\n",
        "sep_20 = pd.read_csv('/content/gdrive/MyDrive/따릉이 20년 1년치 데이터/공공자전거 대여이력 정보_2020.09.csv', encoding='cp949')\n",
        "oct_20 = pd.read_csv('/content/gdrive/MyDrive/따릉이 20년 1년치 데이터/공공자전거 대여이력 정보_2020.10.csv', encoding='cp949')\n",
        "nov_20 = pd.read_csv('/content/gdrive/MyDrive/따릉이 20년 1년치 데이터/공공자전거 대여이력 정보_2020.11.csv', encoding='cp949')\n",
        "dec_20 = pd.read_csv('/content/gdrive/MyDrive/따릉이 20년 1년치 데이터/공공자전거 대여이력 정보_2020.12.csv', encoding='cp949')\n",
        "may_20 = pd.read_csv(r'/content/gdrive/MyDrive/따릉이 20년 1년치 데이터/공공자전거 대여이력 정보_2020.05.csv', encoding='cp949')"
      ],
      "execution_count": null,
      "outputs": [
        {
          "output_type": "stream",
          "text": [
            "/usr/local/lib/python3.7/dist-packages/IPython/core/interactiveshell.py:2718: DtypeWarning: Columns (4,6) have mixed types.Specify dtype option on import or set low_memory=False.\n",
            "  interactivity=interactivity, compiler=compiler, result=result)\n"
          ],
          "name": "stderr"
        }
      ]
    },
    {
      "cell_type": "markdown",
      "metadata": {
        "id": "YeXf1g5iG7xY"
      },
      "source": [
        "대여소 정보 데이터 불러오기"
      ]
    },
    {
      "cell_type": "code",
      "metadata": {
        "colab": {
          "base_uri": "https://localhost:8080/",
          "height": 122
        },
        "id": "YkM9B6umHD92",
        "outputId": "69ab9753-43dd-4054-e632-515fda55a2e7"
      },
      "source": [
        "## 공공대여소 정보.csv download & import\n",
        "!gdown --id 1p64OI0-5xzIEnrxxCINWOfxnDS_rd9tC -O \"공공대여소 정보.csv\"\n",
        "rent_house = pd.read_csv(\"공공대여소 정보.csv\", encoding=\"cp949\")\n",
        "#rent_house = pd.read_csv(\"/content/gdrive/MyDrive/공공자전거 대여소 정보(21.01.31 기준).csv\", encoding='cp949')\n",
        "\"\"\"\n",
        "\n",
        "    공공대여소 정보에 대해 위도, 경도가 표시되지 않고 누락된 케이스가 다수 보임.\n",
        "    Geocoder를 통해 상세주소로부터 위도, 경도를 얻는 과정이 필요할 듯 보임.\n",
        "\n",
        "\"\"\""
      ],
      "execution_count": 12,
      "outputs": [
        {
          "output_type": "stream",
          "text": [
            "Downloading...\n",
            "From: https://drive.google.com/uc?id=1p64OI0-5xzIEnrxxCINWOfxnDS_rd9tC\n",
            "To: /content/공공대여소 정보.csv\n",
            "\r  0% 0.00/207k [00:00<?, ?B/s]\r100% 207k/207k [00:00<00:00, 62.8MB/s]\n"
          ],
          "name": "stdout"
        },
        {
          "output_type": "execute_result",
          "data": {
            "application/vnd.google.colaboratory.intrinsic+json": {
              "type": "string"
            },
            "text/plain": [
              "'\\n\\n    공공대여소 정보에 대해 위도, 경도가 표시되지 않고 누락된 케이스가 다수 보임.\\n    Geocoder를 통해 상세주소로부터 위도, 경도를 얻는 과정이 필요할 듯 보임.\\n\\n'"
            ]
          },
          "metadata": {
            "tags": []
          },
          "execution_count": 12
        }
      ]
    },
    {
      "cell_type": "code",
      "metadata": {
        "id": "D09OGfeuHWyj"
      },
      "source": [
        "## columns renameing\n",
        "rent_house_col = [\"대여소 번호\", \"대여소 명\", \"위치\", \"상세주소\", \"위도\",\"경도\", \"설치 시기\", \"설치 형태\", \"거치 대수\", \"운영 방식\"]\n",
        "rent_house.columns = rent_house_col"
      ],
      "execution_count": 14,
      "outputs": []
    },
    {
      "cell_type": "code",
      "metadata": {
        "colab": {
          "base_uri": "https://localhost:8080/",
          "height": 202
        },
        "id": "6hbyuteTIJor",
        "outputId": "726a645c-d545-4415-ae16-b0941ec6da13"
      },
      "source": [
        "rent_house.head()"
      ],
      "execution_count": null,
      "outputs": [
        {
          "output_type": "execute_result",
          "data": {
            "text/html": [
              "<div>\n",
              "<style scoped>\n",
              "    .dataframe tbody tr th:only-of-type {\n",
              "        vertical-align: middle;\n",
              "    }\n",
              "\n",
              "    .dataframe tbody tr th {\n",
              "        vertical-align: top;\n",
              "    }\n",
              "\n",
              "    .dataframe thead th {\n",
              "        text-align: right;\n",
              "    }\n",
              "</style>\n",
              "<table border=\"1\" class=\"dataframe\">\n",
              "  <thead>\n",
              "    <tr style=\"text-align: right;\">\n",
              "      <th></th>\n",
              "      <th>대여소 번호</th>\n",
              "      <th>대여소 명</th>\n",
              "      <th>위치</th>\n",
              "      <th>상세주소</th>\n",
              "      <th>위도</th>\n",
              "      <th>경도</th>\n",
              "      <th>설치 시기</th>\n",
              "      <th>설치 형태</th>\n",
              "      <th>거치 대수</th>\n",
              "      <th>운영 방식</th>\n",
              "    </tr>\n",
              "  </thead>\n",
              "  <tbody>\n",
              "    <tr>\n",
              "      <th>0</th>\n",
              "      <td>NaN</td>\n",
              "      <td>NaN</td>\n",
              "      <td>NaN</td>\n",
              "      <td>NaN</td>\n",
              "      <td>NaN</td>\n",
              "      <td>NaN</td>\n",
              "      <td>NaN</td>\n",
              "      <td>LCD</td>\n",
              "      <td>QR</td>\n",
              "      <td>NaN</td>\n",
              "    </tr>\n",
              "    <tr>\n",
              "      <th>1</th>\n",
              "      <td>NaN</td>\n",
              "      <td>NaN</td>\n",
              "      <td>자치구</td>\n",
              "      <td>상세주소</td>\n",
              "      <td>위도</td>\n",
              "      <td>경도</td>\n",
              "      <td>NaN</td>\n",
              "      <td>NaN</td>\n",
              "      <td>NaN</td>\n",
              "      <td>NaN</td>\n",
              "    </tr>\n",
              "    <tr>\n",
              "      <th>2</th>\n",
              "      <td>NaN</td>\n",
              "      <td>NaN</td>\n",
              "      <td>NaN</td>\n",
              "      <td>NaN</td>\n",
              "      <td>NaN</td>\n",
              "      <td>NaN</td>\n",
              "      <td>NaN</td>\n",
              "      <td>거치\\n대수</td>\n",
              "      <td>거치\\n대수</td>\n",
              "      <td>NaN</td>\n",
              "    </tr>\n",
              "    <tr>\n",
              "      <th>3</th>\n",
              "      <td>NaN</td>\n",
              "      <td>NaN</td>\n",
              "      <td>NaN</td>\n",
              "      <td>NaN</td>\n",
              "      <td>NaN</td>\n",
              "      <td>NaN</td>\n",
              "      <td>NaN</td>\n",
              "      <td>NaN</td>\n",
              "      <td>NaN</td>\n",
              "      <td>NaN</td>\n",
              "    </tr>\n",
              "    <tr>\n",
              "      <th>4</th>\n",
              "      <td>301.0</td>\n",
              "      <td>경복궁역 7번출구 앞</td>\n",
              "      <td>종로구</td>\n",
              "      <td>서울특별시 종로구 사직로 지하130</td>\n",
              "      <td>37.575794</td>\n",
              "      <td>126.971451</td>\n",
              "      <td>2015-10-07</td>\n",
              "      <td>16</td>\n",
              "      <td>NaN</td>\n",
              "      <td>LCD</td>\n",
              "    </tr>\n",
              "  </tbody>\n",
              "</table>\n",
              "</div>"
            ],
            "text/plain": [
              "   대여소 번호        대여소 명   위치  ...   설치 형태   거치 대수 운영 방식\n",
              "0     NaN          NaN  NaN  ...     LCD      QR   NaN\n",
              "1     NaN          NaN  자치구  ...     NaN     NaN   NaN\n",
              "2     NaN          NaN  NaN  ...  거치\\n대수  거치\\n대수   NaN\n",
              "3     NaN          NaN  NaN  ...     NaN     NaN   NaN\n",
              "4   301.0  경복궁역 7번출구 앞  종로구  ...      16     NaN   LCD\n",
              "\n",
              "[5 rows x 10 columns]"
            ]
          },
          "metadata": {
            "tags": []
          },
          "execution_count": 15
        }
      ]
    },
    {
      "cell_type": "code",
      "metadata": {
        "colab": {
          "base_uri": "https://localhost:8080/"
        },
        "id": "n2_20CL6gs_K",
        "outputId": "9011bc37-6729-4694-80c4-5a4ce0de5411"
      },
      "source": [
        "rent_house.info()"
      ],
      "execution_count": null,
      "outputs": [
        {
          "output_type": "stream",
          "text": [
            "<class 'pandas.core.frame.DataFrame'>\n",
            "RangeIndex: 2161 entries, 0 to 2160\n",
            "Data columns (total 10 columns):\n",
            " #   Column  Non-Null Count  Dtype  \n",
            "---  ------  --------------  -----  \n",
            " 0   대여소 번호  2154 non-null   float64\n",
            " 1   대여소 명   2154 non-null   object \n",
            " 2   위치      2155 non-null   object \n",
            " 3   상세주소    2155 non-null   object \n",
            " 4   위도      2043 non-null   object \n",
            " 5   경도      2043 non-null   object \n",
            " 6   설치 시기   2152 non-null   object \n",
            " 7   설치 형태   1484 non-null   object \n",
            " 8   거치 대수   673 non-null    object \n",
            " 9   운영 방식   2154 non-null   object \n",
            "dtypes: float64(1), object(9)\n",
            "memory usage: 169.0+ KB\n"
          ],
          "name": "stdout"
        }
      ]
    },
    {
      "cell_type": "markdown",
      "metadata": {
        "id": "LjbpmyYhs-r8"
      },
      "source": [
        "##### 데이터 합치기, 기존 csv 담은 변수 삭제로 메모리 확보"
      ]
    },
    {
      "cell_type": "code",
      "metadata": {
        "id": "nkE7_nnztFWg"
      },
      "source": [
        "df = pd.concat([jan_20, feb_20, mar_20, apr_20, may_20, jun_20,jul_aug_20, sep_20, oct_20, nov_20, dec_20], axis = 0, ignore_index=True) \n",
        "del([jan_20, feb_20, mar_20, apr_20, jun_20,jul_aug_20, sep_20, oct_20, nov_20, dec_20, may_20])"
      ],
      "execution_count": null,
      "outputs": []
    },
    {
      "cell_type": "code",
      "metadata": {
        "colab": {
          "base_uri": "https://localhost:8080/"
        },
        "id": "Mq0bcXOnvpbD",
        "outputId": "39fddff8-ccce-4b2b-8d9a-5fb83d5c73e6"
      },
      "source": [
        "df.info()"
      ],
      "execution_count": null,
      "outputs": [
        {
          "output_type": "stream",
          "text": [
            "<class 'pandas.core.frame.DataFrame'>\n",
            "RangeIndex: 18570545 entries, 0 to 18570544\n",
            "Data columns (total 11 columns):\n",
            " #   Column    Dtype  \n",
            "---  ------    -----  \n",
            " 0   자전거번호     object \n",
            " 1   대여일시      object \n",
            " 2   대여 대여소번호  int64  \n",
            " 3   대여 대여소명   object \n",
            " 4   대여거치대     object \n",
            " 5   반납일시      object \n",
            " 6   반납대여소번호   object \n",
            " 7   반납대여소명    object \n",
            " 8   반납거치대     int64  \n",
            " 9   이용시간      float64\n",
            " 10  이용거리      float64\n",
            "dtypes: float64(2), int64(2), object(7)\n",
            "memory usage: 1.5+ GB\n"
          ],
          "name": "stdout"
        }
      ]
    },
    {
      "cell_type": "code",
      "metadata": {
        "id": "u1_3LpK_1HKG"
      },
      "source": [
        "df.to_csv('totaldata.csv', index=False, encoding='cp949')"
      ],
      "execution_count": null,
      "outputs": []
    },
    {
      "cell_type": "markdown",
      "metadata": {
        "id": "tkqsPpcZtiWO"
      },
      "source": [
        "**대여 대여소번호는 int로 되어있는데 반납대여소번호가 object로 되어있는 것이 \n",
        "수상하다, 전처리가 필요해 보인다**"
      ]
    },
    {
      "cell_type": "code",
      "metadata": {
        "id": "71SpWarRtLX9",
        "colab": {
          "base_uri": "https://localhost:8080/"
        },
        "outputId": "e958b0b4-1444-4288-eb27-fe0d111c3697"
      },
      "source": [
        "try : \n",
        "  df = df.astype({'반납대여소번호' : int})\n",
        "except Exception as e:\n",
        "  print(e)"
      ],
      "execution_count": null,
      "outputs": [
        {
          "output_type": "stream",
          "text": [
            "invalid literal for int() with base 10: '마곡나루역 5번출구 뒤편'\n"
          ],
          "name": "stdout"
        }
      ]
    },
    {
      "cell_type": "code",
      "metadata": {
        "id": "jLyInmSnvmZu",
        "colab": {
          "base_uri": "https://localhost:8080/",
          "height": 162
        },
        "outputId": "4df71986-8249-4247-884c-d91dbb4e01d8"
      },
      "source": [
        "df[df['반납대여소번호']=='마곡나루역 5번출구 뒤편']"
      ],
      "execution_count": null,
      "outputs": [
        {
          "output_type": "execute_result",
          "data": {
            "text/html": [
              "<div>\n",
              "<style scoped>\n",
              "    .dataframe tbody tr th:only-of-type {\n",
              "        vertical-align: middle;\n",
              "    }\n",
              "\n",
              "    .dataframe tbody tr th {\n",
              "        vertical-align: top;\n",
              "    }\n",
              "\n",
              "    .dataframe thead th {\n",
              "        text-align: right;\n",
              "    }\n",
              "</style>\n",
              "<table border=\"1\" class=\"dataframe\">\n",
              "  <thead>\n",
              "    <tr style=\"text-align: right;\">\n",
              "      <th></th>\n",
              "      <th>자전거번호</th>\n",
              "      <th>대여일시</th>\n",
              "      <th>대여 대여소번호</th>\n",
              "      <th>대여 대여소명</th>\n",
              "      <th>대여거치대</th>\n",
              "      <th>반납일시</th>\n",
              "      <th>반납대여소번호</th>\n",
              "      <th>반납대여소명</th>\n",
              "      <th>반납거치대</th>\n",
              "      <th>이용시간</th>\n",
              "      <th>이용거리</th>\n",
              "    </tr>\n",
              "  </thead>\n",
              "  <tbody>\n",
              "    <tr>\n",
              "      <th>47102</th>\n",
              "      <td>SPB-09846</td>\n",
              "      <td>2020-01-03 06:51:33</td>\n",
              "      <td>1162</td>\n",
              "      <td>공항초등학교?풍覺?,8\"</td>\n",
              "      <td>2020-01-03 06:56:34</td>\n",
              "      <td>02701</td>\n",
              "      <td>마곡나루역 5번출구 뒤편</td>\n",
              "      <td>8</td>\n",
              "      <td>4</td>\n",
              "      <td>830.0</td>\n",
              "      <td>NaN</td>\n",
              "    </tr>\n",
              "    <tr>\n",
              "      <th>1179456</th>\n",
              "      <td>SPB-07139</td>\n",
              "      <td>2020-02-18 08:18:14</td>\n",
              "      <td>1162</td>\n",
              "      <td>공항?茄紵閨낡풍覺?,6\"</td>\n",
              "      <td>2020-02-18 08:23:53</td>\n",
              "      <td>02701</td>\n",
              "      <td>마곡나루역 5번출구 뒤편</td>\n",
              "      <td>1</td>\n",
              "      <td>5</td>\n",
              "      <td>810.0</td>\n",
              "      <td>NaN</td>\n",
              "    </tr>\n",
              "  </tbody>\n",
              "</table>\n",
              "</div>"
            ],
            "text/plain": [
              "             자전거번호                 대여일시  대여 대여소번호  ... 반납거치대   이용시간 이용거리\n",
              "47102    SPB-09846  2020-01-03 06:51:33      1162  ...     4  830.0  NaN\n",
              "1179456  SPB-07139  2020-02-18 08:18:14      1162  ...     5  810.0  NaN\n",
              "\n",
              "[2 rows x 11 columns]"
            ]
          },
          "metadata": {
            "tags": []
          },
          "execution_count": 15
        }
      ]
    },
    {
      "cell_type": "code",
      "metadata": {
        "id": "h3BeRBq9vw7E",
        "colab": {
          "base_uri": "https://localhost:8080/",
          "height": 79
        },
        "outputId": "d7cfeb0c-f859-4ddc-8343-a8011fa12262"
      },
      "source": [
        "df[df['반납대여소번호']=='오정초교 앞 보도육교']"
      ],
      "execution_count": null,
      "outputs": [
        {
          "output_type": "execute_result",
          "data": {
            "text/html": [
              "<div>\n",
              "<style scoped>\n",
              "    .dataframe tbody tr th:only-of-type {\n",
              "        vertical-align: middle;\n",
              "    }\n",
              "\n",
              "    .dataframe tbody tr th {\n",
              "        vertical-align: top;\n",
              "    }\n",
              "\n",
              "    .dataframe thead th {\n",
              "        text-align: right;\n",
              "    }\n",
              "</style>\n",
              "<table border=\"1\" class=\"dataframe\">\n",
              "  <thead>\n",
              "    <tr style=\"text-align: right;\">\n",
              "      <th></th>\n",
              "      <th>자전거번호</th>\n",
              "      <th>대여일시</th>\n",
              "      <th>대여 대여소번호</th>\n",
              "      <th>대여 대여소명</th>\n",
              "      <th>대여거치대</th>\n",
              "      <th>반납일시</th>\n",
              "      <th>반납대여소번호</th>\n",
              "      <th>반납대여소명</th>\n",
              "      <th>반납거치대</th>\n",
              "      <th>이용시간</th>\n",
              "      <th>이용거리</th>\n",
              "    </tr>\n",
              "  </thead>\n",
              "  <tbody>\n",
              "    <tr>\n",
              "      <th>1594991</th>\n",
              "      <td>SPB-15192</td>\n",
              "      <td>2020-03-03 22:44:32</td>\n",
              "      <td>1991</td>\n",
              "      <td>오류동역 맞?뵈?,2\"</td>\n",
              "      <td>2020-03-03 22:54:38</td>\n",
              "      <td>01971</td>\n",
              "      <td>오정초교 앞 보도육교</td>\n",
              "      <td>8</td>\n",
              "      <td>9</td>\n",
              "      <td>1910.0</td>\n",
              "      <td>NaN</td>\n",
              "    </tr>\n",
              "  </tbody>\n",
              "</table>\n",
              "</div>"
            ],
            "text/plain": [
              "             자전거번호                 대여일시  대여 대여소번호  ... 반납거치대    이용시간 이용거리\n",
              "1594991  SPB-15192  2020-03-03 22:44:32      1991  ...     9  1910.0  NaN\n",
              "\n",
              "[1 rows x 11 columns]"
            ]
          },
          "metadata": {
            "tags": []
          },
          "execution_count": 16
        }
      ]
    },
    {
      "cell_type": "markdown",
      "metadata": {
        "id": "-hBLw3S6v3yE"
      },
      "source": [
        "문제가 있는 행들은 공통적으로 대여 대여소명에 '?'이 섞여 있음\n",
        "\n",
        "다른 이상치 케이스를 수집해야 해서 케이스를 나누고 그에 따른 비율을 살펴봐야한다 "
      ]
    },
    {
      "cell_type": "markdown",
      "metadata": {
        "id": "Zy4Ky7FQvI3r"
      },
      "source": [
        "## **1. 오류케이스 찾기 (전체 데이터 수 : 18,570,545개)**"
      ]
    },
    {
      "cell_type": "code",
      "metadata": {
        "colab": {
          "base_uri": "https://localhost:8080/"
        },
        "id": "FcvjQQ0Lw5db",
        "outputId": "71fdf309-eb9d-4130-c8c9-fcc558e6dc8b"
      },
      "source": [
        "len(df)"
      ],
      "execution_count": null,
      "outputs": [
        {
          "output_type": "execute_result",
          "data": {
            "text/plain": [
              "18570545"
            ]
          },
          "metadata": {
            "tags": []
          },
          "execution_count": 19
        }
      ]
    },
    {
      "cell_type": "markdown",
      "metadata": {
        "id": "nmr5cRKHwQDq"
      },
      "source": [
        "**1-1 대여대여소명에 '?'이 들어간 것: 34,415**"
      ]
    },
    {
      "cell_type": "code",
      "metadata": {
        "id": "tZJs1-Rfj2Vd"
      },
      "source": [
        "need_to_prep = []\n",
        "pattern = re.compile('([?])')"
      ],
      "execution_count": null,
      "outputs": []
    },
    {
      "cell_type": "code",
      "metadata": {
        "id": "0CDkhnX1t7at"
      },
      "source": [
        "for i in range(0, len(df)) :\n",
        "  need_to_prep.append(pattern.search(df['대여 대여소명'][i]))"
      ],
      "execution_count": null,
      "outputs": []
    },
    {
      "cell_type": "code",
      "metadata": {
        "id": "1JpFVi9qx46t"
      },
      "source": [
        "j = 0\n",
        "\n",
        "for i in range(0, len(df)) :\n",
        "       \n",
        "    if str(type(need_to_prep[i])) == \"<class 're.Match'>\" :\n",
        "        j = j + 1\n",
        "    else :\n",
        "      continue"
      ],
      "execution_count": null,
      "outputs": []
    },
    {
      "cell_type": "code",
      "metadata": {
        "colab": {
          "base_uri": "https://localhost:8080/"
        },
        "id": "zdHthFAbx5M6",
        "outputId": "a38c8977-1180-49b0-a957-84a0abb7fc5f"
      },
      "source": [
        "j"
      ],
      "execution_count": null,
      "outputs": [
        {
          "output_type": "execute_result",
          "data": {
            "text/plain": [
              "34415"
            ]
          },
          "metadata": {
            "tags": []
          },
          "execution_count": 15
        }
      ]
    },
    {
      "cell_type": "markdown",
      "metadata": {
        "id": "MIHXnqRewcYk"
      },
      "source": [
        "**1-2 대여대여소명에 한자가 포함되어 있는 것 : 112개**"
      ]
    },
    {
      "cell_type": "code",
      "metadata": {
        "id": "a7JZnpoZwPI5"
      },
      "source": [
        "need_to_prep = []\n",
        "pattern = re.compile(r'([一-龥]+)')\n",
        "\n",
        "for i in range(0, len(df)) :\n",
        "  need_to_prep.append(pattern.search(df['대여 대여소명'][i]))"
      ],
      "execution_count": null,
      "outputs": []
    },
    {
      "cell_type": "code",
      "metadata": {
        "id": "oUHv7Mjok_9X"
      },
      "source": [
        "j = 0\n",
        "\n",
        "for i in range(0, len(df)) :\n",
        "       \n",
        "    if str(type(need_to_prep[i])) == \"<class 're.Match'>\" :\n",
        "        j = j + 1\n",
        "    else :\n",
        "      continue"
      ],
      "execution_count": null,
      "outputs": []
    },
    {
      "cell_type": "code",
      "metadata": {
        "id": "DeaHIuE1whKX",
        "colab": {
          "base_uri": "https://localhost:8080/"
        },
        "outputId": "a06d9a4a-08db-47f3-a751-d3dc173817be"
      },
      "source": [
        "j"
      ],
      "execution_count": null,
      "outputs": [
        {
          "output_type": "execute_result",
          "data": {
            "text/plain": [
              "112"
            ]
          },
          "metadata": {
            "tags": []
          },
          "execution_count": 19
        }
      ]
    },
    {
      "cell_type": "markdown",
      "metadata": {
        "id": "OwluVWBzwlWJ"
      },
      "source": [
        "**1-3 대여대여소명에 알파벳이 포함되어 있는 것 : 1,001,767**"
      ]
    },
    {
      "cell_type": "code",
      "metadata": {
        "id": "PCmLiS0R7LB8"
      },
      "source": [
        "need_to_prep = []\n",
        "pattern = re.compile(r'([a-zA-Z])')\n",
        "### 알파벳 탐지를 위한 정규표현식 작성\n",
        "### 정규표현식을 통해 얻은 결과를 need_to_prep 리스트에 하나씩 append할 예정"
      ],
      "execution_count": null,
      "outputs": []
    },
    {
      "cell_type": "code",
      "metadata": {
        "id": "jHj9BQQ-xch-"
      },
      "source": [
        "for i in range(0, len(df)) :\n",
        "  need_to_prep.append(pattern.search(df['대여 대여소명'][i]))\n",
        "### for loop문을 통한 데이터프레임의 각 라인 정규표현식 적용\n",
        "### re.search(적용할대상문자열)을 통해 정규표현식에 해당하면 re.class를 반환, 아니면 NoneType을 반환"
      ],
      "execution_count": null,
      "outputs": []
    },
    {
      "cell_type": "code",
      "metadata": {
        "id": "zBbVi0IDyv-X",
        "colab": {
          "base_uri": "https://localhost:8080/"
        },
        "outputId": "0389e515-7a9a-4123-848c-b90b89d939cb"
      },
      "source": [
        "j = 0\n",
        "\n",
        "for i in range(0, len(df)) :\n",
        "       \n",
        "    if str(type(need_to_prep[i])) == \"<class 're.Match'>\" :\n",
        "        j = j + 1\n",
        "    else :\n",
        "      continue\n",
        "j\n",
        "## 반복문을 통해 정규표현식에 해당하면 반환되는 타입을 need_to_prep에 저장하도록 전 단계에서 지정하였고,\n",
        "## need_to_prep의 반환 타입 한 개 한 개씩을 str화된 re.Match와 비교하여 일치하면(정규표현식이 적용된다면) 카운트 +1\n",
        "## 즉, j는 정규표현식에 해당되는 내용이 있는 라인의 개수임"
      ],
      "execution_count": null,
      "outputs": [
        {
          "output_type": "execute_result",
          "data": {
            "text/plain": [
              "1001767"
            ]
          },
          "metadata": {
            "tags": []
          },
          "execution_count": 22
        }
      ]
    },
    {
      "cell_type": "markdown",
      "metadata": {
        "id": "giqDm704xhUf"
      },
      "source": [
        "**1-4 반납대여소명에 알파벳이 포함되어 있는 것 : 995,771**"
      ]
    },
    {
      "cell_type": "code",
      "metadata": {
        "id": "E8w0abrZy1cy"
      },
      "source": [
        "text = '공항초등학교QaP?풍覺?,8'\n",
        "regex = re.compile(r'[a-zA-Z]')\n",
        "matchobj = regex.search(text)\n",
        "print(matchobj)\n",
        "str(type(matchobj))\n",
        "#정규표현식을 통하여 특정 문자에서 알바벳 여부를 추출가능하며 \n",
        "#알바벳을 추출 하였을때 그 타입은 re.Match라는 형태로 바뀌게되며\n",
        "#만약 특정 문자에서 알파벳이 존재하지않을시 NoneType이라는 타입으로 바뀌게된다."
      ],
      "execution_count": null,
      "outputs": []
    },
    {
      "cell_type": "code",
      "metadata": {
        "colab": {
          "base_uri": "https://localhost:8080/"
        },
        "id": "wuYQkl_pdslW",
        "outputId": "cadf62c8-eb13-4180-aa1e-375f7fb30519"
      },
      "source": [
        "regex = re.compile(r'[a-zA-Z]')\n",
        "for i in range(len(df)):\n",
        "  text = df['반납대여소명'][i]\n",
        "  matchobj = regex.search(text)\n",
        "  if str(type(matchobj)) == \"<class 're.Match'>\":\n",
        "     j = j+1\n",
        "print(j)\n",
        "#여기서는 타입을 인식하려면 타입함수를 적용한뒤 str함수를 사용하여 비교를 해야하여 str함수를 사용한 모습이다.\n",
        "#j라는 변수를 통해서 반납대여소명에 각행에 알파벳이 존재할때 그러한 행들을 모두더하여 \n",
        "#최종적으로 알파벳이 존재하는 열의 갯수를 반환하게 된다."
      ],
      "execution_count": null,
      "outputs": [
        {
          "output_type": "stream",
          "text": [
            "995771\n"
          ],
          "name": "stdout"
        }
      ]
    },
    {
      "cell_type": "markdown",
      "metadata": {
        "id": "O8tviUdiy44r"
      },
      "source": [
        "**1-5 반납대여소명에 한자가 포함되어 있는 것 : 120**"
      ]
    },
    {
      "cell_type": "code",
      "metadata": {
        "id": "WBLbAFe7xmDb"
      },
      "source": [
        "import re\n",
        " \n",
        "text = '공항초등학교?풍覺?,8'\n",
        " \n",
        "regex = re.compile('([一-龥])')\n",
        "matchobj = regex.search(text)\n",
        "type(matchobj)\n",
        "str(type(matchobj)) == \"<class 're.Match'>\"\n",
        "#정규표현식을 통하여 특정 문자에서 한자 여부를 추출가능하며 \n",
        "#알바벳을 추출 하였을때 그 타입은 re.Match라는 형태로 바뀌게되며\n",
        "#만약 특정 문자에서 한자가 존재하지않을시 NoneType이라는 타입으로 바뀌게된다."
      ],
      "execution_count": null,
      "outputs": []
    },
    {
      "cell_type": "code",
      "metadata": {
        "id": "-V-Zm1UkxmwM"
      },
      "source": [
        "a = 1\n",
        "type(a)\n",
        "str(type(a)) == \"<class 'int'>\""
      ],
      "execution_count": null,
      "outputs": []
    },
    {
      "cell_type": "code",
      "metadata": {
        "id": "_Om4r8p9dwQm"
      },
      "source": [
        "text = '공항초등학교?8'\n",
        " \n",
        "regex = re.compile('([一-龥])')\n",
        "matchobj = regex.search(text)\n",
        "type(matchobj)"
      ],
      "execution_count": null,
      "outputs": []
    },
    {
      "cell_type": "code",
      "metadata": {
        "colab": {
          "base_uri": "https://localhost:8080/"
        },
        "id": "PPGoFoTTdznz",
        "outputId": "2e8d5539-a370-43b2-d464-eb2abbb51d87"
      },
      "source": [
        "j = 0\n",
        "regex = re.compile('([一-龥])')\n",
        "for i in range(len(df)):\n",
        "  text = df['반납대여소명'][i]\n",
        "  matchobj = regex.search(text)\n",
        "  if str(type(matchobj)) == \"<class 're.Match'>\":\n",
        "     j = j+1\n",
        "print(j)\n",
        "#여기서는 타입을 인식하려면 타입함수를 적용한뒤 str함수를 사용하여 비교를 해야하여 str함수를 사용한 모습이다.\n",
        "#j라는 변수를 통해서 반납대여소명에 각행에 한자가 존재할때 그러한 행들을 모두더하여 \n",
        "#최종적으로 한자가 존재하는 열의 갯수를 반환하게 된다."
      ],
      "execution_count": null,
      "outputs": [
        {
          "output_type": "stream",
          "text": [
            "120\n"
          ],
          "name": "stdout"
        }
      ]
    },
    {
      "cell_type": "markdown",
      "metadata": {
        "id": "Hkbp26Siy8Ae"
      },
      "source": [
        "**1-6 반납대여소명에 ?가 포함되어 있는 것 : 35070**"
      ]
    },
    {
      "cell_type": "code",
      "metadata": {
        "id": "2Vg4-jsczAQc",
        "colab": {
          "base_uri": "https://localhost:8080/"
        },
        "outputId": "1749e866-f2a1-4aa9-a9a0-c362303dc2b2"
      },
      "source": [
        "j = 0\n",
        "for i in range(len(df)):\n",
        "   if '?' in df['반납대여소명'][i]:\n",
        "    #  print(i)\n",
        "     j = j+1\n",
        "print(j)\n",
        "\n",
        "#if문에서 특정 문자가 존재하는지 여부를 판단하기 위해 in구문을 사용하여\n",
        "#'?'가 있다면 그러한 행들을 모두더하여\n",
        "#최종적으로 반납대여소 행들중에서 ?가 존재하는 행의 갯수를 반환한다."
      ],
      "execution_count": null,
      "outputs": [
        {
          "output_type": "stream",
          "text": [
            "35070\n"
          ],
          "name": "stdout"
        }
      ]
    },
    {
      "cell_type": "markdown",
      "metadata": {
        "id": "L3Khm7W9v2W-"
      },
      "source": [
        ""
      ]
    },
    {
      "cell_type": "markdown",
      "metadata": {
        "id": "LlyaYYONx9te"
      },
      "source": [
        "**1-7 대여대여소번호/반납대여소번호가 마스터정보(기준정보)에서 없는 번호인 것 + 마스터정보 가공**"
      ]
    },
    {
      "cell_type": "code",
      "metadata": {
        "id": "urKAXF_HyEXa"
      },
      "source": [
        "## 대여소 정보에 등록된 대여소 번호 리스트\n",
        "rent_house_num_list = set(rent_house[\"대여소 번호\"].dropna().astype(int))"
      ],
      "execution_count": null,
      "outputs": []
    },
    {
      "cell_type": "code",
      "metadata": {
        "colab": {
          "base_uri": "https://localhost:8080/"
        },
        "id": "WTKkyQ6-1ZA9",
        "outputId": "1478d2fb-433c-4d62-8d7f-2f9f5cf123f5"
      },
      "source": [
        "len(rent_house_num_list)"
      ],
      "execution_count": null,
      "outputs": [
        {
          "output_type": "execute_result",
          "data": {
            "text/plain": [
              "2153"
            ]
          },
          "metadata": {
            "tags": []
          },
          "execution_count": 17
        }
      ]
    },
    {
      "cell_type": "markdown",
      "metadata": {
        "id": "ZfH2AvyW2ItD"
      },
      "source": [
        ""
      ]
    },
    {
      "cell_type": "code",
      "metadata": {
        "colab": {
          "base_uri": "https://localhost:8080/",
          "height": 660
        },
        "id": "WIPAM7yTJcoo",
        "outputId": "cde498ba-241d-495d-9123-9867c81d9e9d"
      },
      "source": [
        "## 마스터에 없는 대여 대여소번호 약 10만 건\n",
        "df[df['대여 대여소번호'].isin(set(df['대여 대여소번호']) - rent_house_num_list)][['대여 대여소번호','대여 대여소명']].head(20)"
      ],
      "execution_count": null,
      "outputs": [
        {
          "output_type": "execute_result",
          "data": {
            "text/html": [
              "<div>\n",
              "<style scoped>\n",
              "    .dataframe tbody tr th:only-of-type {\n",
              "        vertical-align: middle;\n",
              "    }\n",
              "\n",
              "    .dataframe tbody tr th {\n",
              "        vertical-align: top;\n",
              "    }\n",
              "\n",
              "    .dataframe thead th {\n",
              "        text-align: right;\n",
              "    }\n",
              "</style>\n",
              "<table border=\"1\" class=\"dataframe\">\n",
              "  <thead>\n",
              "    <tr style=\"text-align: right;\">\n",
              "      <th></th>\n",
              "      <th>대여 대여소번호</th>\n",
              "      <th>대여 대여소명</th>\n",
              "    </tr>\n",
              "  </thead>\n",
              "  <tbody>\n",
              "    <tr>\n",
              "      <th>23</th>\n",
              "      <td>3522</td>\n",
              "      <td>사근삼거리</td>\n",
              "    </tr>\n",
              "    <tr>\n",
              "      <th>125</th>\n",
              "      <td>315</td>\n",
              "      <td>신한은행 안국역지점 옆</td>\n",
              "    </tr>\n",
              "    <tr>\n",
              "      <th>126</th>\n",
              "      <td>315</td>\n",
              "      <td>신한은행 안국역지점 옆</td>\n",
              "    </tr>\n",
              "    <tr>\n",
              "      <th>199</th>\n",
              "      <td>3519</td>\n",
              "      <td>용답역 1번 출구</td>\n",
              "    </tr>\n",
              "    <tr>\n",
              "      <th>209</th>\n",
              "      <td>926</td>\n",
              "      <td>불광역 8번출구</td>\n",
              "    </tr>\n",
              "    <tr>\n",
              "      <th>213</th>\n",
              "      <td>951</td>\n",
              "      <td>연신내역 6번출구옆</td>\n",
              "    </tr>\n",
              "    <tr>\n",
              "      <th>222</th>\n",
              "      <td>504</td>\n",
              "      <td>신자초교입구교차로</td>\n",
              "    </tr>\n",
              "    <tr>\n",
              "      <th>268</th>\n",
              "      <td>1623</td>\n",
              "      <td>노원 구민회관</td>\n",
              "    </tr>\n",
              "    <tr>\n",
              "      <th>282</th>\n",
              "      <td>2160</td>\n",
              "      <td>관악구 보건소</td>\n",
              "    </tr>\n",
              "    <tr>\n",
              "      <th>291</th>\n",
              "      <td>315</td>\n",
              "      <td>신한은행 안국역지점 옆</td>\n",
              "    </tr>\n",
              "    <tr>\n",
              "      <th>472</th>\n",
              "      <td>110</td>\n",
              "      <td>사천교</td>\n",
              "    </tr>\n",
              "    <tr>\n",
              "      <th>473</th>\n",
              "      <td>330</td>\n",
              "      <td>청계천 한빛광장</td>\n",
              "    </tr>\n",
              "    <tr>\n",
              "      <th>475</th>\n",
              "      <td>330</td>\n",
              "      <td>청계천 한빛광장</td>\n",
              "    </tr>\n",
              "    <tr>\n",
              "      <th>478</th>\n",
              "      <td>330</td>\n",
              "      <td>청계천 한빛광장</td>\n",
              "    </tr>\n",
              "    <tr>\n",
              "      <th>506</th>\n",
              "      <td>315</td>\n",
              "      <td>신한은행 안국역지점 옆</td>\n",
              "    </tr>\n",
              "    <tr>\n",
              "      <th>508</th>\n",
              "      <td>315</td>\n",
              "      <td>신한은행 안국역지점 옆</td>\n",
              "    </tr>\n",
              "    <tr>\n",
              "      <th>605</th>\n",
              "      <td>926</td>\n",
              "      <td>불광역 8번출구</td>\n",
              "    </tr>\n",
              "    <tr>\n",
              "      <th>670</th>\n",
              "      <td>1623</td>\n",
              "      <td>노원 구민회관</td>\n",
              "    </tr>\n",
              "    <tr>\n",
              "      <th>677</th>\n",
              "      <td>330</td>\n",
              "      <td>청계천 한빛광장</td>\n",
              "    </tr>\n",
              "    <tr>\n",
              "      <th>796</th>\n",
              "      <td>330</td>\n",
              "      <td>청계천 한빛광장</td>\n",
              "    </tr>\n",
              "  </tbody>\n",
              "</table>\n",
              "</div>"
            ],
            "text/plain": [
              "     대여 대여소번호       대여 대여소명\n",
              "23       3522         사근삼거리\n",
              "125       315  신한은행 안국역지점 옆\n",
              "126       315  신한은행 안국역지점 옆\n",
              "199      3519     용답역 1번 출구\n",
              "209       926      불광역 8번출구\n",
              "213       951    연신내역 6번출구옆\n",
              "222       504     신자초교입구교차로\n",
              "268      1623       노원 구민회관\n",
              "282      2160       관악구 보건소\n",
              "291       315  신한은행 안국역지점 옆\n",
              "472       110           사천교\n",
              "473       330      청계천 한빛광장\n",
              "475       330      청계천 한빛광장\n",
              "478       330      청계천 한빛광장\n",
              "506       315  신한은행 안국역지점 옆\n",
              "508       315  신한은행 안국역지점 옆\n",
              "605       926      불광역 8번출구\n",
              "670      1623       노원 구민회관\n",
              "677       330      청계천 한빛광장\n",
              "796       330      청계천 한빛광장"
            ]
          },
          "metadata": {
            "tags": []
          },
          "execution_count": 20
        }
      ]
    },
    {
      "cell_type": "code",
      "metadata": {
        "colab": {
          "base_uri": "https://localhost:8080/"
        },
        "id": "sFw2qyxJzEG7",
        "outputId": "486c8e22-ad9d-4641-ba5b-d3f53eddee36"
      },
      "source": [
        "a_name = set(df[df['대여 대여소번호'].isin(set(df['대여 대여소번호']) - rent_house_num_list)]['대여 대여소명'])\n",
        "a_num = set(df[df['대여 대여소번호'].isin(set(df['대여 대여소번호']) - rent_house_num_list)]['대여 대여소번호'])\n",
        "b_name = set(df[df['반납대여소번호'].isin(set(df['반납대여소번호']) - rent_house_num_list)]['반납대여소명'])\n",
        "b_num = set(df[df['반납대여소번호'].isin(set(df['반납대여소번호']) - rent_house_num_list)]['반납대여소번호'])\n",
        "print('마스터정보에 없는 대여대여소명 고유 개수 : ',len(a_name))\n",
        "print('마스터정보에 없는 대여대여소번호 고유 개수 : ',len(a_num))\n",
        "print('마스터정보에 없는 반납대여소명 고유 개수 : ',len(b_name))\n",
        "print('마스터정보에 없는 반납대여소번호 고유 개수 : ',len(b_num))"
      ],
      "execution_count": null,
      "outputs": [
        {
          "output_type": "stream",
          "text": [
            "마스터정보에 없는 대여대여소명 고유 개수 :  63\n",
            "마스터정보에 없는 대여대여소번호 고유 개수 :  59\n",
            "마스터정보에 없는 반납대여소명 고유 개수 :  1947\n",
            "마스터정보에 없는 반납대여소번호 고유 개수 :  1899\n"
          ],
          "name": "stdout"
        }
      ]
    },
    {
      "cell_type": "code",
      "metadata": {
        "id": "5IAI4sI4yFug",
        "colab": {
          "base_uri": "https://localhost:8080/"
        },
        "outputId": "54159de6-09c6-4064-d1e9-7dfde3f49417"
      },
      "source": [
        "## 대여소 정보(마스터)에는 없지만 대여 이력에는 조회되는 대여소 번호와 이름\n",
        "## 마스터가 가장 최신이라 대여소가 폐쇄된 케이스 존재가능. ==> 데이터 삭제?\n",
        "for i in set(df['대여 대여소번호']):\n",
        "  if i not in rent_house_num_list:\n",
        "    print(i, df[df['대여 대여소번호']==i]['대여 대여소명'].unique())\n",
        "\n",
        "## 같은 의미\n",
        "## set(df['대여 대여소번호']) - rent_house_num_list \n",
        "## df[df['대여 대여소번호'].isin(set(df['대여 대여소번호']) - rent_house_num_list)]"
      ],
      "execution_count": null,
      "outputs": [
        {
          "output_type": "stream",
          "text": [
            "3 ['중랑센터']\n",
            "5 ['상암센터 정비실']\n",
            "10 ['위트콤']\n",
            "110 ['사천교']\n",
            "216 ['삼부아파트1동 앞']\n",
            "315 ['신한은행 안국역지점 옆']\n",
            "330 ['청계천 한빛광장']\n",
            "386 ['올림픽기념 국민생활관 앞']\n",
            "496 ['마포아트센터 앞']\n",
            "504 ['신자초교입구교차로' '신자초?냅逃릴냈湯?,3\"']\n",
            "580 ['신금호역 3번출구 뒤']\n",
            "651 ['우리은행청량리지점앞']\n",
            "861 ['삼익상가 앞']\n",
            "926 ['불광역 8번출구']\n",
            "951 ['연신내역 6번출구옆']\n",
            "1087 ['레미안 솔베뉴(양재대로)']\n",
            "1383 ['성북동 주민센터 건너편']\n",
            "1397 ['래미안월곡아파트 (창문여고 건터편)']\n",
            "1475 ['보도 육교(타이어뱅크앞)']\n",
            "1476 ['중목초등학교 앞 육교']\n",
            "1566 ['삼각산 아이언APT앞']\n",
            "1603 ['롯데캐슬 102동 코너(월계주유소건너)']\n",
            "1623 ['노원 구민회관']\n",
            "1687 ['서울월드컵경기장 테스트']\n",
            "99998 ['상암단말정비']\n",
            "99999 ['영남단말기정비']\n",
            "1766 ['소피아 관광호텔 앞']\n",
            "1769 ['신동아아파트 교차로']\n",
            "9980 ['에이텍']\n",
            "9985 ['천왕센터']\n",
            "9988 ['천호센터']\n",
            "9989 ['종묘센터']\n",
            "9990 ['도봉센터' '_도봉센터']\n",
            "9991 ['훈련원센터']\n",
            "9992 ['사대문센터']\n",
            "9993 ['개화정비']\n",
            "9997 ['강남센터']\n",
            "9998 ['영남주차장 정비센터']\n",
            "9999 ['시스템관리팀' '상담센터']\n",
            "2073 ['동작상떼빌 103동 앞']\n",
            "2160 ['관악구 보건소']\n",
            "2180 ['신림동주민센터']\n",
            "2194 ['봉림교 남측']\n",
            "2290 ['서래마을파리15구공원앞']\n",
            "2546 ['한신18차아파트']\n",
            "2705 ['홈플러스(가양점)']\n",
            "2726 ['서울식물원 주제원입구']\n",
            "2736 ['마곡엠벨리7단지 M타워']\n",
            "3108 ['서울홍성교회']\n",
            "3118 ['연대 정문앞']\n",
            "3301 ['도림천 신림2교']\n",
            "3519 ['용답역 1번 출구' '용답역 1번 ?瘦?,0\"']\n",
            "3522 ['사근삼거리']\n",
            "3562 ['행당중학교 후문']\n",
            "3572 ['중곡동 성당']\n",
            "3576 ['강변SK뷰 APT앞']\n",
            "3577 ['신자초교 입구 교차로(SC제일은행)']\n",
            "3652 ['한영외국어고등학교']\n",
            "3655 ['둔촌신성미소지움아파트']\n"
          ],
          "name": "stdout"
        }
      ]
    },
    {
      "cell_type": "code",
      "metadata": {
        "id": "PQx6XcKULWPJ"
      },
      "source": [
        "## 반납대여소 번호에 문자열로 잘못 저장된 대여소 이름들 , 그리고 그때 저장된 반납대여소명\n",
        "## 시간 오래걸림;;\n",
        "for i in range(len(df['반납대여소번호'])):\n",
        "  try:\n",
        "    int(df['반납대여소번호'][i])\n",
        "  except Exception as e:\n",
        "    print(e)\n",
        "    name = df['반납대여소번호'][i]\n",
        "    print(e, df[df['반납대여소번호'] == name][['반납대여소명', '반납대여소번호']])"
      ],
      "execution_count": null,
      "outputs": []
    },
    {
      "cell_type": "code",
      "metadata": {
        "colab": {
          "base_uri": "https://localhost:8080/",
          "height": 878
        },
        "id": "9WVK214pLjf5",
        "outputId": "fcecf8ca-4ccb-499a-fd6f-b390913aac81"
      },
      "source": [
        "## 1.9 타입 변환으로 이상치 찾아내기(반납대여소번호)\n",
        "## to_numeric without error, nan(str type) drop, type to int, unique() and set\n",
        "return_list = set(pd.to_numeric(df['반납대여소번호'], errors='coerce').dropna().astype(int).unique())\n",
        "## 마스터 정보에 없는 대여소 번호만 출력하기\n",
        "## 약 7만개\n",
        "df[df['반납대여소번호'].isin(return_list - rent_house_num_list)]"
      ],
      "execution_count": null,
      "outputs": [
        {
          "output_type": "execute_result",
          "data": {
            "text/html": [
              "<div>\n",
              "<style scoped>\n",
              "    .dataframe tbody tr th:only-of-type {\n",
              "        vertical-align: middle;\n",
              "    }\n",
              "\n",
              "    .dataframe tbody tr th {\n",
              "        vertical-align: top;\n",
              "    }\n",
              "\n",
              "    .dataframe thead th {\n",
              "        text-align: right;\n",
              "    }\n",
              "</style>\n",
              "<table border=\"1\" class=\"dataframe\">\n",
              "  <thead>\n",
              "    <tr style=\"text-align: right;\">\n",
              "      <th></th>\n",
              "      <th>자전거번호</th>\n",
              "      <th>대여일시</th>\n",
              "      <th>대여 대여소번호</th>\n",
              "      <th>대여 대여소명</th>\n",
              "      <th>대여거치대</th>\n",
              "      <th>반납일시</th>\n",
              "      <th>반납대여소번호</th>\n",
              "      <th>반납대여소명</th>\n",
              "      <th>반납거치대</th>\n",
              "      <th>이용시간</th>\n",
              "      <th>이용거리</th>\n",
              "    </tr>\n",
              "  </thead>\n",
              "  <tbody>\n",
              "    <tr>\n",
              "      <th>131216</th>\n",
              "      <td>SPB-16605</td>\n",
              "      <td>2020-01-06 13:25:34</td>\n",
              "      <td>224</td>\n",
              "      <td>롯데캐슬 앞</td>\n",
              "      <td>3</td>\n",
              "      <td>2020-01-06 13:30:02</td>\n",
              "      <td>216</td>\n",
              "      <td>삼부아파트1동 앞</td>\n",
              "      <td>2</td>\n",
              "      <td>4.0</td>\n",
              "      <td>500.0</td>\n",
              "    </tr>\n",
              "    <tr>\n",
              "      <th>131425</th>\n",
              "      <td>SPB-21681</td>\n",
              "      <td>2020-01-06 12:12:24</td>\n",
              "      <td>631</td>\n",
              "      <td>답십리역 1번출구</td>\n",
              "      <td>13</td>\n",
              "      <td>2020-01-06 13:46:10</td>\n",
              "      <td>3519</td>\n",
              "      <td>용답역 1번 출구</td>\n",
              "      <td>3</td>\n",
              "      <td>92.0</td>\n",
              "      <td>6500.0</td>\n",
              "    </tr>\n",
              "    <tr>\n",
              "      <th>131435</th>\n",
              "      <td>SPB-21759</td>\n",
              "      <td>2020-01-06 13:44:03</td>\n",
              "      <td>223</td>\n",
              "      <td>진주아파트상가 앞</td>\n",
              "      <td>16</td>\n",
              "      <td>2020-01-06 13:47:09</td>\n",
              "      <td>216</td>\n",
              "      <td>삼부아파트1동 앞</td>\n",
              "      <td>10</td>\n",
              "      <td>2.0</td>\n",
              "      <td>650.0</td>\n",
              "    </tr>\n",
              "    <tr>\n",
              "      <th>131523</th>\n",
              "      <td>SPB-13841</td>\n",
              "      <td>2020-01-06 13:49:50</td>\n",
              "      <td>963</td>\n",
              "      <td>대호프라자아파트</td>\n",
              "      <td>13</td>\n",
              "      <td>2020-01-06 13:54:26</td>\n",
              "      <td>926</td>\n",
              "      <td>불광역 8번출구</td>\n",
              "      <td>4</td>\n",
              "      <td>4.0</td>\n",
              "      <td>550.0</td>\n",
              "    </tr>\n",
              "    <tr>\n",
              "      <th>131601</th>\n",
              "      <td>SPB-11245</td>\n",
              "      <td>2020-01-06 13:53:28</td>\n",
              "      <td>502</td>\n",
              "      <td>뚝섬유원지역 1번출구 앞</td>\n",
              "      <td>2</td>\n",
              "      <td>2020-01-06 13:59:43</td>\n",
              "      <td>504</td>\n",
              "      <td>신자초교입구교차로</td>\n",
              "      <td>8</td>\n",
              "      <td>6.0</td>\n",
              "      <td>1050.0</td>\n",
              "    </tr>\n",
              "    <tr>\n",
              "      <th>...</th>\n",
              "      <td>...</td>\n",
              "      <td>...</td>\n",
              "      <td>...</td>\n",
              "      <td>...</td>\n",
              "      <td>...</td>\n",
              "      <td>...</td>\n",
              "      <td>...</td>\n",
              "      <td>...</td>\n",
              "      <td>...</td>\n",
              "      <td>...</td>\n",
              "      <td>...</td>\n",
              "    </tr>\n",
              "    <tr>\n",
              "      <th>18569993</th>\n",
              "      <td>SPB-31845</td>\n",
              "      <td>2020-05-31 21:41:55</td>\n",
              "      <td>215</td>\n",
              "      <td>여의도고교 앞</td>\n",
              "      <td>0</td>\n",
              "      <td>2020-05-31 23:20:03</td>\n",
              "      <td>216</td>\n",
              "      <td>삼부아파트1동 앞</td>\n",
              "      <td>0</td>\n",
              "      <td>98.0</td>\n",
              "      <td>0.0</td>\n",
              "    </tr>\n",
              "    <tr>\n",
              "      <th>18570118</th>\n",
              "      <td>SPB-33499</td>\n",
              "      <td>2020-05-31 18:41:10</td>\n",
              "      <td>1002</td>\n",
              "      <td>해공공원(천호동)</td>\n",
              "      <td>0</td>\n",
              "      <td>2020-05-31 23:30:22</td>\n",
              "      <td>1087</td>\n",
              "      <td>레미안 솔베뉴(양재대로)</td>\n",
              "      <td>0</td>\n",
              "      <td>289.0</td>\n",
              "      <td>0.0</td>\n",
              "    </tr>\n",
              "    <tr>\n",
              "      <th>18570148</th>\n",
              "      <td>SPB-32053</td>\n",
              "      <td>2020-05-31 23:25:47</td>\n",
              "      <td>1343</td>\n",
              "      <td>한성대7번출구 앞</td>\n",
              "      <td>0</td>\n",
              "      <td>2020-05-31 23:33:09</td>\n",
              "      <td>386</td>\n",
              "      <td>올림픽기념 국민생활관 앞</td>\n",
              "      <td>0</td>\n",
              "      <td>7.0</td>\n",
              "      <td>0.0</td>\n",
              "    </tr>\n",
              "    <tr>\n",
              "      <th>18570161</th>\n",
              "      <td>SPB-17525</td>\n",
              "      <td>2020-05-31 21:17:45</td>\n",
              "      <td>906</td>\n",
              "      <td>연신내역 5번출구150M 아래</td>\n",
              "      <td>9</td>\n",
              "      <td>2020-05-31 23:34:05</td>\n",
              "      <td>926</td>\n",
              "      <td>불광역 8번출구</td>\n",
              "      <td>4</td>\n",
              "      <td>135.0</td>\n",
              "      <td>18580.0</td>\n",
              "    </tr>\n",
              "    <tr>\n",
              "      <th>18570249</th>\n",
              "      <td>SPB-31153</td>\n",
              "      <td>2020-05-31 21:14:38</td>\n",
              "      <td>438</td>\n",
              "      <td>성산2-1 공영주차장</td>\n",
              "      <td>0</td>\n",
              "      <td>2020-05-31 23:44:02</td>\n",
              "      <td>110</td>\n",
              "      <td>사천교</td>\n",
              "      <td>0</td>\n",
              "      <td>149.0</td>\n",
              "      <td>0.0</td>\n",
              "    </tr>\n",
              "  </tbody>\n",
              "</table>\n",
              "<p>73227 rows × 11 columns</p>\n",
              "</div>"
            ],
            "text/plain": [
              "              자전거번호                 대여일시  대여 대여소번호  ... 반납거치대   이용시간     이용거리\n",
              "131216    SPB-16605  2020-01-06 13:25:34       224  ...     2    4.0    500.0\n",
              "131425    SPB-21681  2020-01-06 12:12:24       631  ...     3   92.0   6500.0\n",
              "131435    SPB-21759  2020-01-06 13:44:03       223  ...    10    2.0    650.0\n",
              "131523    SPB-13841  2020-01-06 13:49:50       963  ...     4    4.0    550.0\n",
              "131601    SPB-11245  2020-01-06 13:53:28       502  ...     8    6.0   1050.0\n",
              "...             ...                  ...       ...  ...   ...    ...      ...\n",
              "18569993  SPB-31845  2020-05-31 21:41:55       215  ...     0   98.0      0.0\n",
              "18570118  SPB-33499  2020-05-31 18:41:10      1002  ...     0  289.0      0.0\n",
              "18570148  SPB-32053  2020-05-31 23:25:47      1343  ...     0    7.0      0.0\n",
              "18570161  SPB-17525  2020-05-31 21:17:45       906  ...     4  135.0  18580.0\n",
              "18570249  SPB-31153  2020-05-31 21:14:38       438  ...     0  149.0      0.0\n",
              "\n",
              "[73227 rows x 11 columns]"
            ]
          },
          "metadata": {
            "tags": []
          },
          "execution_count": 14
        }
      ]
    },
    {
      "cell_type": "markdown",
      "metadata": {
        "id": "Fb1zWwsZRRXP"
      },
      "source": [
        "###### 마스터에 없는 (반납, 대여)대여소번호 삭제 후 - 18391563 row 남음\n",
        "(apply(to_numeric 상당히 오래걸림..)) - to_numeric()이 훨씬 빠른듯"
      ]
    },
    {
      "cell_type": "code",
      "metadata": {
        "id": "_wF3j09FQI2M"
      },
      "source": [
        "df_to_numeric = df\n",
        "#df_to_numeric['반납대여소번호'] = df['반납대여소번호'].apply(pd.to_numeric, errors=\"coerce\")\n",
        "df_to_numeric['반납대여소번호'] = pd.to_numeric(df['반납대여소번호'], errors=\"coerce\")\n"
      ],
      "execution_count": null,
      "outputs": []
    },
    {
      "cell_type": "code",
      "metadata": {
        "id": "fFl4EifMAJkx",
        "colab": {
          "base_uri": "https://localhost:8080/"
        },
        "outputId": "0c923c0e-b07e-41ec-d1cc-696c33979a73"
      },
      "source": [
        "## 반납대여소 번호란에 string으로 입력되어 있는 케이스 갯수\n",
        "pd.to_numeric(df['반납대여소번호'], errors=\"coerce\").isna()"
      ],
      "execution_count": null,
      "outputs": [
        {
          "output_type": "execute_result",
          "data": {
            "text/plain": [
              "0           False\n",
              "1           False\n",
              "2           False\n",
              "3           False\n",
              "4           False\n",
              "            ...  \n",
              "18570540    False\n",
              "18570541    False\n",
              "18570542    False\n",
              "18570543    False\n",
              "18570544    False\n",
              "Name: 반납대여소번호, Length: 18570545, dtype: bool"
            ]
          },
          "metadata": {
            "tags": []
          },
          "execution_count": 18
        }
      ]
    },
    {
      "cell_type": "code",
      "metadata": {
        "id": "qVnB2V60Uk-m"
      },
      "source": [
        "df_to_numeric = df_to_numeric[df_to_numeric['반납대여소번호'].notna()].astype({'반납대여소번호':int})"
      ],
      "execution_count": null,
      "outputs": []
    },
    {
      "cell_type": "code",
      "metadata": {
        "id": "RrdLbNYLUi_N",
        "colab": {
          "base_uri": "https://localhost:8080/",
          "height": 605
        },
        "outputId": "47c3f455-6a6f-490d-82ee-8e068f0ad99b"
      },
      "source": [
        "#df_to_numeric = df_to_numeric[df_to_numeric['반납대여소번호'].dropna()].astype({'반납대여소번호':int})\n",
        "df_to_numeric[df_to_numeric['반납대여소번호'].isin(rent_house_num_list) & df_to_numeric['대여 대여소번호'].isin(rent_house_num_list)]"
      ],
      "execution_count": null,
      "outputs": [
        {
          "output_type": "execute_result",
          "data": {
            "text/html": [
              "<div>\n",
              "<style scoped>\n",
              "    .dataframe tbody tr th:only-of-type {\n",
              "        vertical-align: middle;\n",
              "    }\n",
              "\n",
              "    .dataframe tbody tr th {\n",
              "        vertical-align: top;\n",
              "    }\n",
              "\n",
              "    .dataframe thead th {\n",
              "        text-align: right;\n",
              "    }\n",
              "</style>\n",
              "<table border=\"1\" class=\"dataframe\">\n",
              "  <thead>\n",
              "    <tr style=\"text-align: right;\">\n",
              "      <th></th>\n",
              "      <th>자전거번호</th>\n",
              "      <th>대여일시</th>\n",
              "      <th>대여 대여소번호</th>\n",
              "      <th>대여 대여소명</th>\n",
              "      <th>대여거치대</th>\n",
              "      <th>반납일시</th>\n",
              "      <th>반납대여소번호</th>\n",
              "      <th>반납대여소명</th>\n",
              "      <th>반납거치대</th>\n",
              "      <th>이용시간</th>\n",
              "      <th>이용거리</th>\n",
              "    </tr>\n",
              "  </thead>\n",
              "  <tbody>\n",
              "    <tr>\n",
              "      <th>0</th>\n",
              "      <td>SPB-04061</td>\n",
              "      <td>2020-01-01 00:01:04</td>\n",
              "      <td>429</td>\n",
              "      <td>송도병원</td>\n",
              "      <td>2</td>\n",
              "      <td>2020-01-01 00:04:21</td>\n",
              "      <td>372</td>\n",
              "      <td>약수역 3번출구 뒤</td>\n",
              "      <td>8</td>\n",
              "      <td>2.0</td>\n",
              "      <td>0.00</td>\n",
              "    </tr>\n",
              "    <tr>\n",
              "      <th>1</th>\n",
              "      <td>SPB-06686</td>\n",
              "      <td>2020-01-01 00:02:53</td>\n",
              "      <td>1637</td>\n",
              "      <td>KT 노원점 건물 앞</td>\n",
              "      <td>14</td>\n",
              "      <td>2020-01-01 00:04:48</td>\n",
              "      <td>1656</td>\n",
              "      <td>중앙하이츠 아파트 입구</td>\n",
              "      <td>9</td>\n",
              "      <td>1.0</td>\n",
              "      <td>350.00</td>\n",
              "    </tr>\n",
              "    <tr>\n",
              "      <th>2</th>\n",
              "      <td>SPB-15937</td>\n",
              "      <td>2020-01-01 00:01:21</td>\n",
              "      <td>1924</td>\n",
              "      <td>삼부르네상스파크빌</td>\n",
              "      <td>10</td>\n",
              "      <td>2020-01-01 00:05:51</td>\n",
              "      <td>1955</td>\n",
              "      <td>디지털입구 교차로</td>\n",
              "      <td>7</td>\n",
              "      <td>4.0</td>\n",
              "      <td>800.00</td>\n",
              "    </tr>\n",
              "    <tr>\n",
              "      <th>3</th>\n",
              "      <td>SPB-14805</td>\n",
              "      <td>2020-01-01 00:03:12</td>\n",
              "      <td>437</td>\n",
              "      <td>대흥역 1번출구</td>\n",
              "      <td>1</td>\n",
              "      <td>2020-01-01 00:05:54</td>\n",
              "      <td>126</td>\n",
              "      <td>서강대 후문 옆</td>\n",
              "      <td>18</td>\n",
              "      <td>2.0</td>\n",
              "      <td>0.00</td>\n",
              "    </tr>\n",
              "    <tr>\n",
              "      <th>4</th>\n",
              "      <td>SPB-09038</td>\n",
              "      <td>2020-01-01 00:01:11</td>\n",
              "      <td>1168</td>\n",
              "      <td>마곡엠밸리10단지 앞</td>\n",
              "      <td>5</td>\n",
              "      <td>2020-01-01 00:05:57</td>\n",
              "      <td>1152</td>\n",
              "      <td>마곡역교차로</td>\n",
              "      <td>2</td>\n",
              "      <td>4.0</td>\n",
              "      <td>660.00</td>\n",
              "    </tr>\n",
              "    <tr>\n",
              "      <th>...</th>\n",
              "      <td>...</td>\n",
              "      <td>...</td>\n",
              "      <td>...</td>\n",
              "      <td>...</td>\n",
              "      <td>...</td>\n",
              "      <td>...</td>\n",
              "      <td>...</td>\n",
              "      <td>...</td>\n",
              "      <td>...</td>\n",
              "      <td>...</td>\n",
              "      <td>...</td>\n",
              "    </tr>\n",
              "    <tr>\n",
              "      <th>18570540</th>\n",
              "      <td>SPB-32746</td>\n",
              "      <td>2020-12-31 20:36:25</td>\n",
              "      <td>1009</td>\n",
              "      <td>천호역4번출구(현대백화점)</td>\n",
              "      <td>0</td>\n",
              "      <td>2021-01-01 01:52:00</td>\n",
              "      <td>1022</td>\n",
              "      <td>길동 사거리(초소앞)</td>\n",
              "      <td>0</td>\n",
              "      <td>315.0</td>\n",
              "      <td>1869.66</td>\n",
              "    </tr>\n",
              "    <tr>\n",
              "      <th>18570541</th>\n",
              "      <td>SPB-30390</td>\n",
              "      <td>2020-12-31 22:51:36</td>\n",
              "      <td>1965</td>\n",
              "      <td>삼환로즈빌아파트 105동 옆</td>\n",
              "      <td>0</td>\n",
              "      <td>2021-01-01 02:29:15</td>\n",
              "      <td>210</td>\n",
              "      <td>IFC몰</td>\n",
              "      <td>0</td>\n",
              "      <td>217.0</td>\n",
              "      <td>16245.85</td>\n",
              "    </tr>\n",
              "    <tr>\n",
              "      <th>18570542</th>\n",
              "      <td>SPB-50439</td>\n",
              "      <td>2020-12-31 22:56:32</td>\n",
              "      <td>1964</td>\n",
              "      <td>원메디타운 앞</td>\n",
              "      <td>0</td>\n",
              "      <td>2021-01-01 02:29:32</td>\n",
              "      <td>210</td>\n",
              "      <td>IFC몰</td>\n",
              "      <td>0</td>\n",
              "      <td>213.0</td>\n",
              "      <td>0.00</td>\n",
              "    </tr>\n",
              "    <tr>\n",
              "      <th>18570543</th>\n",
              "      <td>SPB-37080</td>\n",
              "      <td>2020-12-31 22:18:07</td>\n",
              "      <td>130</td>\n",
              "      <td>신촌역(2호선) 7번출구 앞</td>\n",
              "      <td>0</td>\n",
              "      <td>2021-01-01 02:47:57</td>\n",
              "      <td>148</td>\n",
              "      <td>용강동 주민센터 앞</td>\n",
              "      <td>0</td>\n",
              "      <td>269.0</td>\n",
              "      <td>1627.36</td>\n",
              "    </tr>\n",
              "    <tr>\n",
              "      <th>18570544</th>\n",
              "      <td>SPB-33700</td>\n",
              "      <td>2020-12-31 21:52:24</td>\n",
              "      <td>1735</td>\n",
              "      <td>도봉역 1,2번 출구사이 건너편</td>\n",
              "      <td>0</td>\n",
              "      <td>2021-01-01 04:39:40</td>\n",
              "      <td>1630</td>\n",
              "      <td>수연빌딩 앞</td>\n",
              "      <td>0</td>\n",
              "      <td>407.0</td>\n",
              "      <td>7415.48</td>\n",
              "    </tr>\n",
              "  </tbody>\n",
              "</table>\n",
              "<p>18391563 rows × 11 columns</p>\n",
              "</div>"
            ],
            "text/plain": [
              "              자전거번호                 대여일시  대여 대여소번호  ... 반납거치대   이용시간      이용거리\n",
              "0         SPB-04061  2020-01-01 00:01:04       429  ...     8    2.0      0.00\n",
              "1         SPB-06686  2020-01-01 00:02:53      1637  ...     9    1.0    350.00\n",
              "2         SPB-15937  2020-01-01 00:01:21      1924  ...     7    4.0    800.00\n",
              "3         SPB-14805  2020-01-01 00:03:12       437  ...    18    2.0      0.00\n",
              "4         SPB-09038  2020-01-01 00:01:11      1168  ...     2    4.0    660.00\n",
              "...             ...                  ...       ...  ...   ...    ...       ...\n",
              "18570540  SPB-32746  2020-12-31 20:36:25      1009  ...     0  315.0   1869.66\n",
              "18570541  SPB-30390  2020-12-31 22:51:36      1965  ...     0  217.0  16245.85\n",
              "18570542  SPB-50439  2020-12-31 22:56:32      1964  ...     0  213.0      0.00\n",
              "18570543  SPB-37080  2020-12-31 22:18:07       130  ...     0  269.0   1627.36\n",
              "18570544  SPB-33700  2020-12-31 21:52:24      1735  ...     0  407.0   7415.48\n",
              "\n",
              "[18391563 rows x 11 columns]"
            ]
          },
          "metadata": {
            "tags": []
          },
          "execution_count": 19
        }
      ]
    },
    {
      "cell_type": "markdown",
      "metadata": {
        "id": "A3s7wFiYyJ3T"
      },
      "source": [
        "**1-8 대여대여소명/반납대여소명이 마스터정보(기준정보)에서 없는 것**"
      ]
    },
    {
      "cell_type": "code",
      "metadata": {
        "id": "YDmTeQROyRYk"
      },
      "source": [
        "## '대여소 명' set \n",
        "rent_house_name_list = set(rent_house['대여소 명'].dropna())"
      ],
      "execution_count": null,
      "outputs": []
    },
    {
      "cell_type": "code",
      "metadata": {
        "colab": {
          "base_uri": "https://localhost:8080/"
        },
        "id": "gXuu7S8ZOYHb",
        "outputId": "82c295c3-f3f0-40df-caa2-2a01cd508c34"
      },
      "source": [
        "## 마스터 정보에 저장된 대여소 리스트\n",
        "len(rent_house_name_list)"
      ],
      "execution_count": null,
      "outputs": [
        {
          "output_type": "execute_result",
          "data": {
            "text/plain": [
              "2152"
            ]
          },
          "metadata": {
            "tags": []
          },
          "execution_count": 21
        }
      ]
    },
    {
      "cell_type": "code",
      "metadata": {
        "id": "Pr27My3KyUAy"
      },
      "source": [
        "## 마스터 정보에 없는 대여소명 추리기 from df\n",
        "## 기록된 대여소명(대여, 반납) 중 마스터 정보에 없는 대여소명만 list에 저장\n",
        "to_drop_rent_house = []\n",
        "used_rent_house_name_list = []\n",
        "for i in set(df['대여 대여소명'].unique()) | set(df['반납대여소명'].unique()): # set union(합집합) usage ==> set | set\n",
        "  if i in rent_house_name_list:\n",
        "    used_rent_house_name_list.append(i)\n",
        "  else:\n",
        "    to_drop_rent_house.append(i)"
      ],
      "execution_count": null,
      "outputs": []
    },
    {
      "cell_type": "code",
      "metadata": {
        "colab": {
          "base_uri": "https://localhost:8080/"
        },
        "id": "-ZHxVB6zOpJm",
        "outputId": "c4c64a42-4f92-4aba-dd53-443c3af18aa7"
      },
      "source": [
        "## 실제 사용(대여, 반납) 기록이 있는 대여소 리스트\n",
        "len(used_rent_house_name_list)"
      ],
      "execution_count": null,
      "outputs": [
        {
          "output_type": "execute_result",
          "data": {
            "text/plain": [
              "2033"
            ]
          },
          "metadata": {
            "tags": []
          },
          "execution_count": 23
        }
      ]
    },
    {
      "cell_type": "code",
      "metadata": {
        "id": "UvjDjkeG0Y7v",
        "colab": {
          "base_uri": "https://localhost:8080/"
        },
        "outputId": "14f820a3-e217-4219-f8c5-eb7b0362cdcd"
      },
      "source": [
        "## 마스터 정보에 없는 대여소를 추린 후 차집합을 구하면 대여, 반납에 기록된 대여소명 중 유효한 대여소명만 남음\n",
        "## 어쨌든 모든 대여소가 최소 한번이상, 대여, 반납의 장소로 쓰였다고 가정했을 때 rent , ret(return)이 같아야할 듯 2033,2033으로 같음.\n",
        "rent = set(df['대여 대여소명'].unique()) - set(to_drop_rent_house)\n",
        "ret = set(df['반납대여소명'].unique()) - set(to_drop_rent_house)\n",
        "print(len(rent) , len(ret))"
      ],
      "execution_count": null,
      "outputs": [
        {
          "output_type": "stream",
          "text": [
            "2033 2033\n"
          ],
          "name": "stdout"
        }
      ]
    },
    {
      "cell_type": "markdown",
      "metadata": {
        "id": "sy8wnyfNPytB"
      },
      "source": [
        "###### 마스터에 없는 (반납, 대여)대여소명 삭제 후\n",
        " - 약 1777만개의 데이터 남음(18570545- 17776290 = 794,255)"
      ]
    },
    {
      "cell_type": "code",
      "metadata": {
        "colab": {
          "base_uri": "https://localhost:8080/",
          "height": 605
        },
        "id": "yNDUlhU7O6iJ",
        "outputId": "c1fa6e38-c3ff-47de-90ef-41d156603048"
      },
      "source": [
        "df[df['대여 대여소명'].isin(rent_house_name_list) & df['반납대여소명'].isin(rent_house_name_list)]"
      ],
      "execution_count": null,
      "outputs": [
        {
          "output_type": "execute_result",
          "data": {
            "text/html": [
              "<div>\n",
              "<style scoped>\n",
              "    .dataframe tbody tr th:only-of-type {\n",
              "        vertical-align: middle;\n",
              "    }\n",
              "\n",
              "    .dataframe tbody tr th {\n",
              "        vertical-align: top;\n",
              "    }\n",
              "\n",
              "    .dataframe thead th {\n",
              "        text-align: right;\n",
              "    }\n",
              "</style>\n",
              "<table border=\"1\" class=\"dataframe\">\n",
              "  <thead>\n",
              "    <tr style=\"text-align: right;\">\n",
              "      <th></th>\n",
              "      <th>자전거번호</th>\n",
              "      <th>대여일시</th>\n",
              "      <th>대여 대여소번호</th>\n",
              "      <th>대여 대여소명</th>\n",
              "      <th>대여거치대</th>\n",
              "      <th>반납일시</th>\n",
              "      <th>반납대여소번호</th>\n",
              "      <th>반납대여소명</th>\n",
              "      <th>반납거치대</th>\n",
              "      <th>이용시간</th>\n",
              "      <th>이용거리</th>\n",
              "    </tr>\n",
              "  </thead>\n",
              "  <tbody>\n",
              "    <tr>\n",
              "      <th>0</th>\n",
              "      <td>SPB-04061</td>\n",
              "      <td>2020-01-01 00:01:04</td>\n",
              "      <td>429</td>\n",
              "      <td>송도병원</td>\n",
              "      <td>2</td>\n",
              "      <td>2020-01-01 00:04:21</td>\n",
              "      <td>372.0</td>\n",
              "      <td>약수역 3번출구 뒤</td>\n",
              "      <td>8</td>\n",
              "      <td>2.0</td>\n",
              "      <td>0.00</td>\n",
              "    </tr>\n",
              "    <tr>\n",
              "      <th>1</th>\n",
              "      <td>SPB-06686</td>\n",
              "      <td>2020-01-01 00:02:53</td>\n",
              "      <td>1637</td>\n",
              "      <td>KT 노원점 건물 앞</td>\n",
              "      <td>14</td>\n",
              "      <td>2020-01-01 00:04:48</td>\n",
              "      <td>1656.0</td>\n",
              "      <td>중앙하이츠 아파트 입구</td>\n",
              "      <td>9</td>\n",
              "      <td>1.0</td>\n",
              "      <td>350.00</td>\n",
              "    </tr>\n",
              "    <tr>\n",
              "      <th>2</th>\n",
              "      <td>SPB-15937</td>\n",
              "      <td>2020-01-01 00:01:21</td>\n",
              "      <td>1924</td>\n",
              "      <td>삼부르네상스파크빌</td>\n",
              "      <td>10</td>\n",
              "      <td>2020-01-01 00:05:51</td>\n",
              "      <td>1955.0</td>\n",
              "      <td>디지털입구 교차로</td>\n",
              "      <td>7</td>\n",
              "      <td>4.0</td>\n",
              "      <td>800.00</td>\n",
              "    </tr>\n",
              "    <tr>\n",
              "      <th>3</th>\n",
              "      <td>SPB-14805</td>\n",
              "      <td>2020-01-01 00:03:12</td>\n",
              "      <td>437</td>\n",
              "      <td>대흥역 1번출구</td>\n",
              "      <td>1</td>\n",
              "      <td>2020-01-01 00:05:54</td>\n",
              "      <td>126.0</td>\n",
              "      <td>서강대 후문 옆</td>\n",
              "      <td>18</td>\n",
              "      <td>2.0</td>\n",
              "      <td>0.00</td>\n",
              "    </tr>\n",
              "    <tr>\n",
              "      <th>4</th>\n",
              "      <td>SPB-09038</td>\n",
              "      <td>2020-01-01 00:01:11</td>\n",
              "      <td>1168</td>\n",
              "      <td>마곡엠밸리10단지 앞</td>\n",
              "      <td>5</td>\n",
              "      <td>2020-01-01 00:05:57</td>\n",
              "      <td>1152.0</td>\n",
              "      <td>마곡역교차로</td>\n",
              "      <td>2</td>\n",
              "      <td>4.0</td>\n",
              "      <td>660.00</td>\n",
              "    </tr>\n",
              "    <tr>\n",
              "      <th>...</th>\n",
              "      <td>...</td>\n",
              "      <td>...</td>\n",
              "      <td>...</td>\n",
              "      <td>...</td>\n",
              "      <td>...</td>\n",
              "      <td>...</td>\n",
              "      <td>...</td>\n",
              "      <td>...</td>\n",
              "      <td>...</td>\n",
              "      <td>...</td>\n",
              "      <td>...</td>\n",
              "    </tr>\n",
              "    <tr>\n",
              "      <th>18570540</th>\n",
              "      <td>SPB-32746</td>\n",
              "      <td>2020-12-31 20:36:25</td>\n",
              "      <td>1009</td>\n",
              "      <td>천호역4번출구(현대백화점)</td>\n",
              "      <td>0</td>\n",
              "      <td>2021-01-01 01:52:00</td>\n",
              "      <td>1022.0</td>\n",
              "      <td>길동 사거리(초소앞)</td>\n",
              "      <td>0</td>\n",
              "      <td>315.0</td>\n",
              "      <td>1869.66</td>\n",
              "    </tr>\n",
              "    <tr>\n",
              "      <th>18570541</th>\n",
              "      <td>SPB-30390</td>\n",
              "      <td>2020-12-31 22:51:36</td>\n",
              "      <td>1965</td>\n",
              "      <td>삼환로즈빌아파트 105동 옆</td>\n",
              "      <td>0</td>\n",
              "      <td>2021-01-01 02:29:15</td>\n",
              "      <td>210.0</td>\n",
              "      <td>IFC몰</td>\n",
              "      <td>0</td>\n",
              "      <td>217.0</td>\n",
              "      <td>16245.85</td>\n",
              "    </tr>\n",
              "    <tr>\n",
              "      <th>18570542</th>\n",
              "      <td>SPB-50439</td>\n",
              "      <td>2020-12-31 22:56:32</td>\n",
              "      <td>1964</td>\n",
              "      <td>원메디타운 앞</td>\n",
              "      <td>0</td>\n",
              "      <td>2021-01-01 02:29:32</td>\n",
              "      <td>210.0</td>\n",
              "      <td>IFC몰</td>\n",
              "      <td>0</td>\n",
              "      <td>213.0</td>\n",
              "      <td>0.00</td>\n",
              "    </tr>\n",
              "    <tr>\n",
              "      <th>18570543</th>\n",
              "      <td>SPB-37080</td>\n",
              "      <td>2020-12-31 22:18:07</td>\n",
              "      <td>130</td>\n",
              "      <td>신촌역(2호선) 7번출구 앞</td>\n",
              "      <td>0</td>\n",
              "      <td>2021-01-01 02:47:57</td>\n",
              "      <td>148.0</td>\n",
              "      <td>용강동 주민센터 앞</td>\n",
              "      <td>0</td>\n",
              "      <td>269.0</td>\n",
              "      <td>1627.36</td>\n",
              "    </tr>\n",
              "    <tr>\n",
              "      <th>18570544</th>\n",
              "      <td>SPB-33700</td>\n",
              "      <td>2020-12-31 21:52:24</td>\n",
              "      <td>1735</td>\n",
              "      <td>도봉역 1,2번 출구사이 건너편</td>\n",
              "      <td>0</td>\n",
              "      <td>2021-01-01 04:39:40</td>\n",
              "      <td>1630.0</td>\n",
              "      <td>수연빌딩 앞</td>\n",
              "      <td>0</td>\n",
              "      <td>407.0</td>\n",
              "      <td>7415.48</td>\n",
              "    </tr>\n",
              "  </tbody>\n",
              "</table>\n",
              "<p>17776290 rows × 11 columns</p>\n",
              "</div>"
            ],
            "text/plain": [
              "              자전거번호                 대여일시  대여 대여소번호  ... 반납거치대   이용시간      이용거리\n",
              "0         SPB-04061  2020-01-01 00:01:04       429  ...     8    2.0      0.00\n",
              "1         SPB-06686  2020-01-01 00:02:53      1637  ...     9    1.0    350.00\n",
              "2         SPB-15937  2020-01-01 00:01:21      1924  ...     7    4.0    800.00\n",
              "3         SPB-14805  2020-01-01 00:03:12       437  ...    18    2.0      0.00\n",
              "4         SPB-09038  2020-01-01 00:01:11      1168  ...     2    4.0    660.00\n",
              "...             ...                  ...       ...  ...   ...    ...       ...\n",
              "18570540  SPB-32746  2020-12-31 20:36:25      1009  ...     0  315.0   1869.66\n",
              "18570541  SPB-30390  2020-12-31 22:51:36      1965  ...     0  217.0  16245.85\n",
              "18570542  SPB-50439  2020-12-31 22:56:32      1964  ...     0  213.0      0.00\n",
              "18570543  SPB-37080  2020-12-31 22:18:07       130  ...     0  269.0   1627.36\n",
              "18570544  SPB-33700  2020-12-31 21:52:24      1735  ...     0  407.0   7415.48\n",
              "\n",
              "[17776290 rows x 11 columns]"
            ]
          },
          "metadata": {
            "tags": []
          },
          "execution_count": 25
        }
      ]
    },
    {
      "cell_type": "markdown",
      "metadata": {
        "id": "6lrIoPx10g7w"
      },
      "source": [
        "**1-9 타입 변환을 통한 이상치 개수 파악**"
      ]
    },
    {
      "cell_type": "markdown",
      "metadata": {
        "id": "3eHgbaHXA83t"
      },
      "source": [
        "오류케이스를 살펴본 결론\n",
        "\n",
        "\n",
        "*   한자가 들어간 데이터는 잘못 들어간 데이터로 여기고 양도 매우 적어 지워도 될것 같다(100~200건 사이)\n",
        "*   ?이 들어간 데이터는 반납 대여소명, 시작 대여소명 모두 3만건대로 전체 데이터의 0.1%도 안되어서 지워도 될것 같다(2개 합치면 0.2%대)\n",
        "* 알파벳은 직접 데이터를 까보면 판단해야할것 같다\n",
        "\n",
        "다음주에 의논, 작업해야 할 것\n",
        "* 알파벳으로 들어가 있는 데이터의 처리 여부\n",
        "* 마스터 정보에 없는 것들을 처리하는 것은 이상치를 지우고 다시 논의해야 함\n",
        "\n"
      ]
    },
    {
      "cell_type": "markdown",
      "metadata": {
        "id": "IZ1wn-7C9aTv"
      },
      "source": [
        "**2021.05.14**\n",
        "\n",
        "- 미팅 내용\n",
        "  *   전처리 항목 결정\n",
        "  *   역할 분담 ( 누가 어떤 화면을 만들 것인가)\n",
        "\n",
        "- 논의 사항 / 역할 분담\n",
        "    - 삭제처리 해야할 것\n",
        "\n",
        "    - 마스터 정보에는 없는 대여소 내역\n",
        "      - 1. 지금은 사라짐\n",
        "      - 2. 더이상 안씀\n",
        "    - '?' 있는 것\n",
        "    - 한자 있는 것\n",
        "\n",
        "  - 정제 방법\n",
        "\n",
        "    - 마스터 정보로 정제(1순위)\n",
        "    - 그 후 한자, ? 정제(2순위)\n",
        "    - 알파벳 데이터 보기\n",
        "    \n",
        "  -   데이터 가공?\n",
        "    - 반납시간/시작시간의 연월일, 시간대 분리 ex. 시작 시간대 2020-01-01 00:01:04\t> 2020-01-01 | 00-01 \n",
        "    - 사용시간의 데이터타입 변경 float -> int\n",
        "\n",
        "  - 필요 없는 열\n",
        "    - 대여거치대, 반납거치대\n",
        "\n",
        "  - 최종 열 형태\n",
        "    - 자전거번호\n",
        "    - 대여대여소번호\n",
        "    - 대여대여소명\n",
        "    - 대여일(yyyymmdd)\n",
        "    - 대여시간대\n",
        "    - 반납대여소번호 \n",
        "    - 반납대여소명\n",
        "    - 반납일\n",
        "    - 반납시간대\n",
        "    - 이용시간(분)\n",
        "    - 이용거리(M)\n",
        "\n",
        "\n",
        "  - 정제/전처리 역할 분담\n",
        "    - 마스터 정보로 정제 : 대여 대여소 - 경석 (15일 오전까지) \n",
        "    - 마스터 정보로 정제 : 반납 대여소 - 경석 (15일 오전까지)\n",
        "    - 한자, ? 정제 - 석준 (16일 오전까지)\n",
        "    - 알파벳 데이터 보기 - 석준 (16일 오전까지)\n",
        "    - 시작/반납 대여소번호 정제 - 영현(16일 저녁까지)  \n",
        "        - int 타입으로 변경 \n",
        "    - 이용거리/이용시간 이상치 탐지 - 영현  \n",
        "\n",
        "  - 시각화 목표 플롯 계획안 마련\n",
        "    - 경석 : \n",
        "    - 영현 :\n",
        "    - 석준 :\n"
      ]
    },
    {
      "cell_type": "markdown",
      "metadata": {
        "id": "lMt8bkM_H8Nx"
      },
      "source": [
        "## **2. 데이터 전처리**"
      ]
    },
    {
      "cell_type": "markdown",
      "metadata": {
        "id": "cOmCe29ZURD_"
      },
      "source": [
        "**2-1 마스터 정보를 사용한 전처리**"
      ]
    },
    {
      "cell_type": "markdown",
      "metadata": {
        "id": "ZTINAHiCAcW4"
      },
      "source": [
        "2-1-1 형변환을 통한 이상치 제거 : 기존"
      ]
    },
    {
      "cell_type": "markdown",
      "metadata": {
        "id": "LYhhOGL9CQoP"
      },
      "source": [
        "결측치 확인"
      ]
    },
    {
      "cell_type": "code",
      "metadata": {
        "colab": {
          "base_uri": "https://localhost:8080/",
          "height": 1000
        },
        "id": "CFiqlzcGDRvq",
        "outputId": "7747ac7a-2f3c-4bc0-9894-87c221b23196"
      },
      "source": [
        "import missingno as msno\n",
        "import matplotlib.pyplot as plt\n",
        "plt.rc('font', family='NanumGothic')\n",
        "%matplotlib inline\n",
        "msno.bar(df)\n",
        "plt.show()"
      ],
      "execution_count": null,
      "outputs": [
        {
          "output_type": "stream",
          "text": [
            "findfont: Font family ['NanumGothic'] not found. Falling back to DejaVu Sans.\n",
            "/usr/local/lib/python3.7/dist-packages/matplotlib/backends/backend_agg.py:214: RuntimeWarning: Glyph 51088 missing from current font.\n",
            "  font.set_text(s, 0.0, flags=flags)\n",
            "/usr/local/lib/python3.7/dist-packages/matplotlib/backends/backend_agg.py:214: RuntimeWarning: Glyph 51204 missing from current font.\n",
            "  font.set_text(s, 0.0, flags=flags)\n",
            "/usr/local/lib/python3.7/dist-packages/matplotlib/backends/backend_agg.py:214: RuntimeWarning: Glyph 44144 missing from current font.\n",
            "  font.set_text(s, 0.0, flags=flags)\n",
            "/usr/local/lib/python3.7/dist-packages/matplotlib/backends/backend_agg.py:214: RuntimeWarning: Glyph 48264 missing from current font.\n",
            "  font.set_text(s, 0.0, flags=flags)\n",
            "/usr/local/lib/python3.7/dist-packages/matplotlib/backends/backend_agg.py:214: RuntimeWarning: Glyph 54840 missing from current font.\n",
            "  font.set_text(s, 0.0, flags=flags)\n",
            "/usr/local/lib/python3.7/dist-packages/matplotlib/backends/backend_agg.py:214: RuntimeWarning: Glyph 45824 missing from current font.\n",
            "  font.set_text(s, 0.0, flags=flags)\n",
            "/usr/local/lib/python3.7/dist-packages/matplotlib/backends/backend_agg.py:214: RuntimeWarning: Glyph 50668 missing from current font.\n",
            "  font.set_text(s, 0.0, flags=flags)\n",
            "/usr/local/lib/python3.7/dist-packages/matplotlib/backends/backend_agg.py:214: RuntimeWarning: Glyph 51068 missing from current font.\n",
            "  font.set_text(s, 0.0, flags=flags)\n",
            "/usr/local/lib/python3.7/dist-packages/matplotlib/backends/backend_agg.py:214: RuntimeWarning: Glyph 49884 missing from current font.\n",
            "  font.set_text(s, 0.0, flags=flags)\n",
            "/usr/local/lib/python3.7/dist-packages/matplotlib/backends/backend_agg.py:214: RuntimeWarning: Glyph 49548 missing from current font.\n",
            "  font.set_text(s, 0.0, flags=flags)\n",
            "/usr/local/lib/python3.7/dist-packages/matplotlib/backends/backend_agg.py:214: RuntimeWarning: Glyph 47749 missing from current font.\n",
            "  font.set_text(s, 0.0, flags=flags)\n",
            "/usr/local/lib/python3.7/dist-packages/matplotlib/backends/backend_agg.py:214: RuntimeWarning: Glyph 52824 missing from current font.\n",
            "  font.set_text(s, 0.0, flags=flags)\n",
            "/usr/local/lib/python3.7/dist-packages/matplotlib/backends/backend_agg.py:214: RuntimeWarning: Glyph 48152 missing from current font.\n",
            "  font.set_text(s, 0.0, flags=flags)\n",
            "/usr/local/lib/python3.7/dist-packages/matplotlib/backends/backend_agg.py:214: RuntimeWarning: Glyph 45225 missing from current font.\n",
            "  font.set_text(s, 0.0, flags=flags)\n",
            "/usr/local/lib/python3.7/dist-packages/matplotlib/backends/backend_agg.py:214: RuntimeWarning: Glyph 51060 missing from current font.\n",
            "  font.set_text(s, 0.0, flags=flags)\n",
            "/usr/local/lib/python3.7/dist-packages/matplotlib/backends/backend_agg.py:214: RuntimeWarning: Glyph 50857 missing from current font.\n",
            "  font.set_text(s, 0.0, flags=flags)\n",
            "/usr/local/lib/python3.7/dist-packages/matplotlib/backends/backend_agg.py:214: RuntimeWarning: Glyph 44036 missing from current font.\n",
            "  font.set_text(s, 0.0, flags=flags)\n",
            "/usr/local/lib/python3.7/dist-packages/matplotlib/backends/backend_agg.py:214: RuntimeWarning: Glyph 47532 missing from current font.\n",
            "  font.set_text(s, 0.0, flags=flags)\n",
            "/usr/local/lib/python3.7/dist-packages/matplotlib/backends/backend_agg.py:183: RuntimeWarning: Glyph 51088 missing from current font.\n",
            "  font.set_text(s, 0, flags=flags)\n",
            "/usr/local/lib/python3.7/dist-packages/matplotlib/backends/backend_agg.py:183: RuntimeWarning: Glyph 51204 missing from current font.\n",
            "  font.set_text(s, 0, flags=flags)\n",
            "/usr/local/lib/python3.7/dist-packages/matplotlib/backends/backend_agg.py:183: RuntimeWarning: Glyph 44144 missing from current font.\n",
            "  font.set_text(s, 0, flags=flags)\n",
            "/usr/local/lib/python3.7/dist-packages/matplotlib/backends/backend_agg.py:183: RuntimeWarning: Glyph 48264 missing from current font.\n",
            "  font.set_text(s, 0, flags=flags)\n",
            "/usr/local/lib/python3.7/dist-packages/matplotlib/backends/backend_agg.py:183: RuntimeWarning: Glyph 54840 missing from current font.\n",
            "  font.set_text(s, 0, flags=flags)\n",
            "/usr/local/lib/python3.7/dist-packages/matplotlib/backends/backend_agg.py:183: RuntimeWarning: Glyph 45824 missing from current font.\n",
            "  font.set_text(s, 0, flags=flags)\n",
            "/usr/local/lib/python3.7/dist-packages/matplotlib/backends/backend_agg.py:183: RuntimeWarning: Glyph 50668 missing from current font.\n",
            "  font.set_text(s, 0, flags=flags)\n",
            "/usr/local/lib/python3.7/dist-packages/matplotlib/backends/backend_agg.py:183: RuntimeWarning: Glyph 51068 missing from current font.\n",
            "  font.set_text(s, 0, flags=flags)\n",
            "/usr/local/lib/python3.7/dist-packages/matplotlib/backends/backend_agg.py:183: RuntimeWarning: Glyph 49884 missing from current font.\n",
            "  font.set_text(s, 0, flags=flags)\n",
            "/usr/local/lib/python3.7/dist-packages/matplotlib/backends/backend_agg.py:183: RuntimeWarning: Glyph 49548 missing from current font.\n",
            "  font.set_text(s, 0, flags=flags)\n",
            "/usr/local/lib/python3.7/dist-packages/matplotlib/backends/backend_agg.py:183: RuntimeWarning: Glyph 47749 missing from current font.\n",
            "  font.set_text(s, 0, flags=flags)\n",
            "/usr/local/lib/python3.7/dist-packages/matplotlib/backends/backend_agg.py:183: RuntimeWarning: Glyph 52824 missing from current font.\n",
            "  font.set_text(s, 0, flags=flags)\n",
            "/usr/local/lib/python3.7/dist-packages/matplotlib/backends/backend_agg.py:183: RuntimeWarning: Glyph 48152 missing from current font.\n",
            "  font.set_text(s, 0, flags=flags)\n",
            "/usr/local/lib/python3.7/dist-packages/matplotlib/backends/backend_agg.py:183: RuntimeWarning: Glyph 45225 missing from current font.\n",
            "  font.set_text(s, 0, flags=flags)\n",
            "/usr/local/lib/python3.7/dist-packages/matplotlib/backends/backend_agg.py:183: RuntimeWarning: Glyph 51060 missing from current font.\n",
            "  font.set_text(s, 0, flags=flags)\n",
            "/usr/local/lib/python3.7/dist-packages/matplotlib/backends/backend_agg.py:183: RuntimeWarning: Glyph 50857 missing from current font.\n",
            "  font.set_text(s, 0, flags=flags)\n",
            "/usr/local/lib/python3.7/dist-packages/matplotlib/backends/backend_agg.py:183: RuntimeWarning: Glyph 44036 missing from current font.\n",
            "  font.set_text(s, 0, flags=flags)\n",
            "/usr/local/lib/python3.7/dist-packages/matplotlib/backends/backend_agg.py:183: RuntimeWarning: Glyph 47532 missing from current font.\n",
            "  font.set_text(s, 0, flags=flags)\n"
          ],
          "name": "stderr"
        },
        {
          "output_type": "display_data",
          "data": {
            "image/png": "[encoded data removed]",
            "text/plain": [
              "<Figure size 1728x720 with 3 Axes>"
            ]
          },
          "metadata": {
            "tags": [],
            "needs_background": "light"
          }
        }
      ]
    },
    {
      "cell_type": "markdown",
      "metadata": {
        "id": "cy_aFxKaGA_S"
      },
      "source": [
        "**결측치 제거**"
      ]
    },
    {
      "cell_type": "code",
      "metadata": {
        "colab": {
          "base_uri": "https://localhost:8080/"
        },
        "id": "xM_MOWVwB8eD",
        "outputId": "79544504-1b77-4597-d86c-daf73e85cad9"
      },
      "source": [
        "df = df.dropna()\n",
        "len(df)"
      ],
      "execution_count": null,
      "outputs": [
        {
          "output_type": "execute_result",
          "data": {
            "text/plain": [
              "18570415"
            ]
          },
          "metadata": {
            "tags": []
          },
          "execution_count": 10
        }
      ]
    },
    {
      "cell_type": "code",
      "metadata": {
        "id": "2gKX243JtzoC"
      },
      "source": [
        "df['반납대여소번호'] = df['반납대여소번호'].astype(int)"
      ],
      "execution_count": null,
      "outputs": []
    },
    {
      "cell_type": "code",
      "metadata": {
        "id": "Ytv95iauHMXq"
      },
      "source": [
        "rent_house_list = set(rent_house[\"대여소 명\"].dropna())\n",
        "rent_house_num_list = set(rent_house[\"대여소 번호\"].dropna())"
      ],
      "execution_count": null,
      "outputs": []
    },
    {
      "cell_type": "code",
      "metadata": {
        "id": "ofvcX1trqUwz"
      },
      "source": [
        "df['대여대여소번호yn'] = df['대여 대여소번호'].isin(rent_house_num_list).astype(str)\n",
        "df['반납대여소번호yn'] = df['반납대여소번호'].isin(rent_house_num_list).astype(str)"
      ],
      "execution_count": null,
      "outputs": []
    },
    {
      "cell_type": "code",
      "metadata": {
        "colab": {
          "base_uri": "https://localhost:8080/"
        },
        "id": "5vdiZQn9xnBn",
        "outputId": "78df6b98-ff29-4276-d16f-a920dbaf38e2"
      },
      "source": [
        "df.info()"
      ],
      "execution_count": null,
      "outputs": [
        {
          "output_type": "stream",
          "text": [
            "<class 'pandas.core.frame.DataFrame'>\n",
            "Int64Index: 18570415 entries, 0 to 18570544\n",
            "Data columns (total 13 columns):\n",
            " #   Column     Dtype  \n",
            "---  ------     -----  \n",
            " 0   자전거번호      object \n",
            " 1   대여일시       object \n",
            " 2   대여 대여소번호   int64  \n",
            " 3   대여 대여소명    object \n",
            " 4   대여거치대      object \n",
            " 5   반납일시       object \n",
            " 6   반납대여소번호    int64  \n",
            " 7   반납대여소명     object \n",
            " 8   반납거치대      int64  \n",
            " 9   이용시간       float64\n",
            " 10  이용거리       float64\n",
            " 11  대여대여소번호yn  object \n",
            " 12  반납대여소번호yn  object \n",
            "dtypes: float64(2), int64(3), object(8)\n",
            "memory usage: 1.9+ GB\n"
          ],
          "name": "stdout"
        }
      ]
    },
    {
      "cell_type": "code",
      "metadata": {
        "id": "AblY1aClxfqL"
      },
      "source": [
        "df = df[df['대여대여소번호yn']== 'True']\n",
        "df = df[df['반납대여소번호yn']== 'True']"
      ],
      "execution_count": null,
      "outputs": []
    },
    {
      "cell_type": "code",
      "metadata": {
        "colab": {
          "base_uri": "https://localhost:8080/",
          "height": 49
        },
        "id": "KsDZqOGcyxE_",
        "outputId": "f7a29583-1997-4865-df58-2cbf7a7a0e8a"
      },
      "source": [
        "df[df['반납대여소번호yn']=='False']"
      ],
      "execution_count": null,
      "outputs": [
        {
          "output_type": "execute_result",
          "data": {
            "text/html": [
              "<div>\n",
              "<style scoped>\n",
              "    .dataframe tbody tr th:only-of-type {\n",
              "        vertical-align: middle;\n",
              "    }\n",
              "\n",
              "    .dataframe tbody tr th {\n",
              "        vertical-align: top;\n",
              "    }\n",
              "\n",
              "    .dataframe thead th {\n",
              "        text-align: right;\n",
              "    }\n",
              "</style>\n",
              "<table border=\"1\" class=\"dataframe\">\n",
              "  <thead>\n",
              "    <tr style=\"text-align: right;\">\n",
              "      <th></th>\n",
              "      <th>자전거번호</th>\n",
              "      <th>대여일시</th>\n",
              "      <th>대여 대여소번호</th>\n",
              "      <th>대여 대여소명</th>\n",
              "      <th>대여거치대</th>\n",
              "      <th>반납일시</th>\n",
              "      <th>반납대여소번호</th>\n",
              "      <th>반납대여소명</th>\n",
              "      <th>반납거치대</th>\n",
              "      <th>이용시간</th>\n",
              "      <th>이용거리</th>\n",
              "      <th>대여대여소번호yn</th>\n",
              "      <th>반납대여소번호yn</th>\n",
              "    </tr>\n",
              "  </thead>\n",
              "  <tbody>\n",
              "  </tbody>\n",
              "</table>\n",
              "</div>"
            ],
            "text/plain": [
              "Empty DataFrame\n",
              "Columns: [자전거번호, 대여일시, 대여 대여소번호, 대여 대여소명, 대여거치대, 반납일시, 반납대여소번호, 반납대여소명, 반납거치대, 이용시간, 이용거리, 대여대여소번호yn, 반납대여소번호yn]\n",
              "Index: []"
            ]
          },
          "metadata": {
            "tags": []
          },
          "execution_count": 16
        }
      ]
    },
    {
      "cell_type": "code",
      "metadata": {
        "colab": {
          "base_uri": "https://localhost:8080/",
          "height": 49
        },
        "id": "I81Or58Jy1Du",
        "outputId": "ff848dff-e052-46e8-d389-595ca8906c0c"
      },
      "source": [
        "df[df['대여대여소번호yn']=='False']"
      ],
      "execution_count": null,
      "outputs": [
        {
          "output_type": "execute_result",
          "data": {
            "text/html": [
              "<div>\n",
              "<style scoped>\n",
              "    .dataframe tbody tr th:only-of-type {\n",
              "        vertical-align: middle;\n",
              "    }\n",
              "\n",
              "    .dataframe tbody tr th {\n",
              "        vertical-align: top;\n",
              "    }\n",
              "\n",
              "    .dataframe thead th {\n",
              "        text-align: right;\n",
              "    }\n",
              "</style>\n",
              "<table border=\"1\" class=\"dataframe\">\n",
              "  <thead>\n",
              "    <tr style=\"text-align: right;\">\n",
              "      <th></th>\n",
              "      <th>자전거번호</th>\n",
              "      <th>대여일시</th>\n",
              "      <th>대여 대여소번호</th>\n",
              "      <th>대여 대여소명</th>\n",
              "      <th>대여거치대</th>\n",
              "      <th>반납일시</th>\n",
              "      <th>반납대여소번호</th>\n",
              "      <th>반납대여소명</th>\n",
              "      <th>반납거치대</th>\n",
              "      <th>이용시간</th>\n",
              "      <th>이용거리</th>\n",
              "      <th>대여대여소번호yn</th>\n",
              "      <th>반납대여소번호yn</th>\n",
              "    </tr>\n",
              "  </thead>\n",
              "  <tbody>\n",
              "  </tbody>\n",
              "</table>\n",
              "</div>"
            ],
            "text/plain": [
              "Empty DataFrame\n",
              "Columns: [자전거번호, 대여일시, 대여 대여소번호, 대여 대여소명, 대여거치대, 반납일시, 반납대여소번호, 반납대여소명, 반납거치대, 이용시간, 이용거리, 대여대여소번호yn, 반납대여소번호yn]\n",
              "Index: []"
            ]
          },
          "metadata": {
            "tags": []
          },
          "execution_count": 17
        }
      ]
    },
    {
      "cell_type": "code",
      "metadata": {
        "colab": {
          "base_uri": "https://localhost:8080/"
        },
        "id": "etkiball3YDC",
        "outputId": "edd0dc14-c99f-4a36-d417-17dc678ac333"
      },
      "source": [
        "len(df)"
      ],
      "execution_count": null,
      "outputs": [
        {
          "output_type": "execute_result",
          "data": {
            "text/plain": [
              "18391489"
            ]
          },
          "metadata": {
            "tags": []
          },
          "execution_count": 18
        }
      ]
    },
    {
      "cell_type": "code",
      "metadata": {
        "id": "wWAG9mB3KLpl"
      },
      "source": [
        "df['반납대여소명yn'] = df['반납대여소명'].isin(rent_house_list).astype(str)\n",
        "df['대여대여소명yn'] = df['대여 대여소명'].isin(rent_house_list).astype(str)"
      ],
      "execution_count": null,
      "outputs": []
    },
    {
      "cell_type": "code",
      "metadata": {
        "id": "xEzEuXSLCSwa"
      },
      "source": [
        "df = df[df['반납대여소명yn']== 'True']\n",
        "df = df[df['대여대여소명yn']== 'True']"
      ],
      "execution_count": null,
      "outputs": []
    },
    {
      "cell_type": "code",
      "metadata": {
        "id": "uNSXSypPw3ew"
      },
      "source": [
        "df = df[['자전거번호', '대여일시', '대여 대여소번호', '대여 대여소명', '반납일시','반납대여소번호','반납대여소명','이용시간', '이용거리']]"
      ],
      "execution_count": null,
      "outputs": []
    },
    {
      "cell_type": "code",
      "metadata": {
        "colab": {
          "base_uri": "https://localhost:8080/",
          "height": 414
        },
        "id": "Ls7rc0L37wxC",
        "outputId": "35751663-bd38-4ce5-c6c9-8294689be2c6"
      },
      "source": [
        "df"
      ],
      "execution_count": null,
      "outputs": [
        {
          "output_type": "execute_result",
          "data": {
            "text/html": [
              "<div>\n",
              "<style scoped>\n",
              "    .dataframe tbody tr th:only-of-type {\n",
              "        vertical-align: middle;\n",
              "    }\n",
              "\n",
              "    .dataframe tbody tr th {\n",
              "        vertical-align: top;\n",
              "    }\n",
              "\n",
              "    .dataframe thead th {\n",
              "        text-align: right;\n",
              "    }\n",
              "</style>\n",
              "<table border=\"1\" class=\"dataframe\">\n",
              "  <thead>\n",
              "    <tr style=\"text-align: right;\">\n",
              "      <th></th>\n",
              "      <th>자전거번호</th>\n",
              "      <th>대여일시</th>\n",
              "      <th>대여 대여소번호</th>\n",
              "      <th>대여 대여소명</th>\n",
              "      <th>반납일시</th>\n",
              "      <th>반납대여소번호</th>\n",
              "      <th>반납대여소명</th>\n",
              "      <th>이용시간</th>\n",
              "      <th>이용거리</th>\n",
              "    </tr>\n",
              "  </thead>\n",
              "  <tbody>\n",
              "    <tr>\n",
              "      <th>0</th>\n",
              "      <td>SPB-04061</td>\n",
              "      <td>2020-01-01 00:01:04</td>\n",
              "      <td>429</td>\n",
              "      <td>송도병원</td>\n",
              "      <td>2020-01-01 00:04:21</td>\n",
              "      <td>372</td>\n",
              "      <td>약수역 3번출구 뒤</td>\n",
              "      <td>2.0</td>\n",
              "      <td>0.00</td>\n",
              "    </tr>\n",
              "    <tr>\n",
              "      <th>1</th>\n",
              "      <td>SPB-06686</td>\n",
              "      <td>2020-01-01 00:02:53</td>\n",
              "      <td>1637</td>\n",
              "      <td>KT 노원점 건물 앞</td>\n",
              "      <td>2020-01-01 00:04:48</td>\n",
              "      <td>1656</td>\n",
              "      <td>중앙하이츠 아파트 입구</td>\n",
              "      <td>1.0</td>\n",
              "      <td>350.00</td>\n",
              "    </tr>\n",
              "    <tr>\n",
              "      <th>2</th>\n",
              "      <td>SPB-15937</td>\n",
              "      <td>2020-01-01 00:01:21</td>\n",
              "      <td>1924</td>\n",
              "      <td>삼부르네상스파크빌</td>\n",
              "      <td>2020-01-01 00:05:51</td>\n",
              "      <td>1955</td>\n",
              "      <td>디지털입구 교차로</td>\n",
              "      <td>4.0</td>\n",
              "      <td>800.00</td>\n",
              "    </tr>\n",
              "    <tr>\n",
              "      <th>3</th>\n",
              "      <td>SPB-14805</td>\n",
              "      <td>2020-01-01 00:03:12</td>\n",
              "      <td>437</td>\n",
              "      <td>대흥역 1번출구</td>\n",
              "      <td>2020-01-01 00:05:54</td>\n",
              "      <td>126</td>\n",
              "      <td>서강대 후문 옆</td>\n",
              "      <td>2.0</td>\n",
              "      <td>0.00</td>\n",
              "    </tr>\n",
              "    <tr>\n",
              "      <th>4</th>\n",
              "      <td>SPB-09038</td>\n",
              "      <td>2020-01-01 00:01:11</td>\n",
              "      <td>1168</td>\n",
              "      <td>마곡엠밸리10단지 앞</td>\n",
              "      <td>2020-01-01 00:05:57</td>\n",
              "      <td>1152</td>\n",
              "      <td>마곡역교차로</td>\n",
              "      <td>4.0</td>\n",
              "      <td>660.00</td>\n",
              "    </tr>\n",
              "    <tr>\n",
              "      <th>...</th>\n",
              "      <td>...</td>\n",
              "      <td>...</td>\n",
              "      <td>...</td>\n",
              "      <td>...</td>\n",
              "      <td>...</td>\n",
              "      <td>...</td>\n",
              "      <td>...</td>\n",
              "      <td>...</td>\n",
              "      <td>...</td>\n",
              "    </tr>\n",
              "    <tr>\n",
              "      <th>18570540</th>\n",
              "      <td>SPB-32746</td>\n",
              "      <td>2020-12-31 20:36:25</td>\n",
              "      <td>1009</td>\n",
              "      <td>천호역4번출구(현대백화점)</td>\n",
              "      <td>2021-01-01 01:52:00</td>\n",
              "      <td>1022</td>\n",
              "      <td>길동 사거리(초소앞)</td>\n",
              "      <td>315.0</td>\n",
              "      <td>1869.66</td>\n",
              "    </tr>\n",
              "    <tr>\n",
              "      <th>18570541</th>\n",
              "      <td>SPB-30390</td>\n",
              "      <td>2020-12-31 22:51:36</td>\n",
              "      <td>1965</td>\n",
              "      <td>삼환로즈빌아파트 105동 옆</td>\n",
              "      <td>2021-01-01 02:29:15</td>\n",
              "      <td>210</td>\n",
              "      <td>IFC몰</td>\n",
              "      <td>217.0</td>\n",
              "      <td>16245.85</td>\n",
              "    </tr>\n",
              "    <tr>\n",
              "      <th>18570542</th>\n",
              "      <td>SPB-50439</td>\n",
              "      <td>2020-12-31 22:56:32</td>\n",
              "      <td>1964</td>\n",
              "      <td>원메디타운 앞</td>\n",
              "      <td>2021-01-01 02:29:32</td>\n",
              "      <td>210</td>\n",
              "      <td>IFC몰</td>\n",
              "      <td>213.0</td>\n",
              "      <td>0.00</td>\n",
              "    </tr>\n",
              "    <tr>\n",
              "      <th>18570543</th>\n",
              "      <td>SPB-37080</td>\n",
              "      <td>2020-12-31 22:18:07</td>\n",
              "      <td>130</td>\n",
              "      <td>신촌역(2호선) 7번출구 앞</td>\n",
              "      <td>2021-01-01 02:47:57</td>\n",
              "      <td>148</td>\n",
              "      <td>용강동 주민센터 앞</td>\n",
              "      <td>269.0</td>\n",
              "      <td>1627.36</td>\n",
              "    </tr>\n",
              "    <tr>\n",
              "      <th>18570544</th>\n",
              "      <td>SPB-33700</td>\n",
              "      <td>2020-12-31 21:52:24</td>\n",
              "      <td>1735</td>\n",
              "      <td>도봉역 1,2번 출구사이 건너편</td>\n",
              "      <td>2021-01-01 04:39:40</td>\n",
              "      <td>1630</td>\n",
              "      <td>수연빌딩 앞</td>\n",
              "      <td>407.0</td>\n",
              "      <td>7415.48</td>\n",
              "    </tr>\n",
              "  </tbody>\n",
              "</table>\n",
              "<p>17776287 rows × 9 columns</p>\n",
              "</div>"
            ],
            "text/plain": [
              "              자전거번호                 대여일시  ...   이용시간      이용거리\n",
              "0         SPB-04061  2020-01-01 00:01:04  ...    2.0      0.00\n",
              "1         SPB-06686  2020-01-01 00:02:53  ...    1.0    350.00\n",
              "2         SPB-15937  2020-01-01 00:01:21  ...    4.0    800.00\n",
              "3         SPB-14805  2020-01-01 00:03:12  ...    2.0      0.00\n",
              "4         SPB-09038  2020-01-01 00:01:11  ...    4.0    660.00\n",
              "...             ...                  ...  ...    ...       ...\n",
              "18570540  SPB-32746  2020-12-31 20:36:25  ...  315.0   1869.66\n",
              "18570541  SPB-30390  2020-12-31 22:51:36  ...  217.0  16245.85\n",
              "18570542  SPB-50439  2020-12-31 22:56:32  ...  213.0      0.00\n",
              "18570543  SPB-37080  2020-12-31 22:18:07  ...  269.0   1627.36\n",
              "18570544  SPB-33700  2020-12-31 21:52:24  ...  407.0   7415.48\n",
              "\n",
              "[17776287 rows x 9 columns]"
            ]
          },
          "metadata": {
            "tags": []
          },
          "execution_count": 22
        }
      ]
    },
    {
      "cell_type": "code",
      "metadata": {
        "colab": {
          "base_uri": "https://localhost:8080/"
        },
        "id": "4r_MWr7R7zc4",
        "outputId": "14e84ce1-c390-47a7-afaa-11a7489ef614"
      },
      "source": [
        "len(df)"
      ],
      "execution_count": null,
      "outputs": [
        {
          "output_type": "execute_result",
          "data": {
            "text/plain": [
              "17776287"
            ]
          },
          "metadata": {
            "tags": []
          },
          "execution_count": 114
        }
      ]
    },
    {
      "cell_type": "code",
      "metadata": {
        "id": "JQnFw5ij77Kz",
        "colab": {
          "base_uri": "https://localhost:8080/"
        },
        "outputId": "e75f1010-020e-437b-86e9-71ef24fe6bb3"
      },
      "source": [
        "df.info()"
      ],
      "execution_count": null,
      "outputs": [
        {
          "output_type": "stream",
          "text": [
            "<class 'pandas.core.frame.DataFrame'>\n",
            "Int64Index: 17776287 entries, 0 to 18570544\n",
            "Data columns (total 9 columns):\n",
            " #   Column    Dtype  \n",
            "---  ------    -----  \n",
            " 0   자전거번호     object \n",
            " 1   대여일시      object \n",
            " 2   대여 대여소번호  int64  \n",
            " 3   대여 대여소명   object \n",
            " 4   반납일시      object \n",
            " 5   반납대여소번호   int64  \n",
            " 6   반납대여소명    object \n",
            " 7   이용시간      float64\n",
            " 8   이용거리      float64\n",
            "dtypes: float64(2), int64(2), object(5)\n",
            "memory usage: 1.3+ GB\n"
          ],
          "name": "stdout"
        }
      ]
    },
    {
      "cell_type": "code",
      "metadata": {
        "colab": {
          "base_uri": "https://localhost:8080/"
        },
        "id": "-IMbsKhi8plR",
        "outputId": "9739074b-961a-44f1-bdfe-9b064bc1750a"
      },
      "source": [
        "df['대여 대여소명'].head(30)"
      ],
      "execution_count": null,
      "outputs": [
        {
          "output_type": "execute_result",
          "data": {
            "text/plain": [
              "0                   송도병원\n",
              "1            KT 노원점 건물 앞\n",
              "2              삼부르네상스파크빌\n",
              "3               대흥역 1번출구\n",
              "4            마곡엠밸리10단지 앞\n",
              "5              서울북부고용센터앞\n",
              "6                 원묵고등학교\n",
              "7             서울 월드컵 경기장\n",
              "8           천왕역 1번 출입구 앞\n",
              "9            영등포구청역 1번출구\n",
              "10            둔촌역 3번 출입구\n",
              "11      한국전력공사(동대문 중랑지사)\n",
              "12            신대방역 2번 출구\n",
              "13          서울대입구역 마에스트로\n",
              "14      건대입구역 사거리(롯데백화점)\n",
              "15    생명의 전화 종합복지관 앞 교차로\n",
              "16              삼전역 1번출구\n",
              "17              삼전역 1번출구\n",
              "18          서울시 도로환경관리센터\n",
              "19            먹골역 6번출구 앞\n",
              "20            성북구보건소 건너편\n",
              "21              노원문화예술회관\n",
              "22     길음래미안아파트817동 상가 앞\n",
              "24     종로오가 지하쇼핑센터 14번출구\n",
              "25             한성대7번출구 앞\n",
              "26         뚝섬유원지역 1번출구 앞\n",
              "27            LIGA 아파트 앞\n",
              "28       잠실나루역 (2번 출구 쪽)\n",
              "29              가양역 8번출구\n",
              "30                   수색역\n",
              "Name: 대여 대여소명, dtype: object"
            ]
          },
          "metadata": {
            "tags": []
          },
          "execution_count": 73
        }
      ]
    },
    {
      "cell_type": "code",
      "metadata": {
        "id": "cWolwLDnF2VA"
      },
      "source": [
        "df.to_csv('cgsdata.csv', index=False, encoding='cp949')"
      ],
      "execution_count": null,
      "outputs": []
    },
    {
      "cell_type": "code",
      "metadata": {
        "id": "FRfM634J9v4T"
      },
      "source": [
        "df = pd.read_csv('/content/cgsdata.csv', encoding='cp949')"
      ],
      "execution_count": null,
      "outputs": []
    },
    {
      "cell_type": "code",
      "metadata": {
        "id": "G70t0GKOC9z_"
      },
      "source": [
        "df1 = df['대여 대여소명'].head(30)"
      ],
      "execution_count": null,
      "outputs": []
    },
    {
      "cell_type": "code",
      "metadata": {
        "colab": {
          "base_uri": "https://localhost:8080/"
        },
        "id": "gLBHlnAGUFvU",
        "outputId": "c1c4f68b-e93d-40b9-a991-96a2a7ddab2c"
      },
      "source": [
        "df1"
      ],
      "execution_count": null,
      "outputs": [
        {
          "output_type": "execute_result",
          "data": {
            "text/plain": [
              "0                   송도병원\n",
              "1            KT 노원점 건물 앞\n",
              "2              삼부르네상스파크빌\n",
              "3               대흥역 1번출구\n",
              "4            마곡엠밸리10단지 앞\n",
              "5              서울북부고용센터앞\n",
              "6                 원묵고등학교\n",
              "7             서울 월드컵 경기장\n",
              "8           천왕역 1번 출입구 앞\n",
              "9            영등포구청역 1번출구\n",
              "10            둔촌역 3번 출입구\n",
              "11      한국전력공사(동대문 중랑지사)\n",
              "12            신대방역 2번 출구\n",
              "13          서울대입구역 마에스트로\n",
              "14      건대입구역 사거리(롯데백화점)\n",
              "15    생명의 전화 종합복지관 앞 교차로\n",
              "16              삼전역 1번출구\n",
              "17              삼전역 1번출구\n",
              "18          서울시 도로환경관리센터\n",
              "19            먹골역 6번출구 앞\n",
              "20            성북구보건소 건너편\n",
              "21              노원문화예술회관\n",
              "22     길음래미안아파트817동 상가 앞\n",
              "23     종로오가 지하쇼핑센터 14번출구\n",
              "24             한성대7번출구 앞\n",
              "25         뚝섬유원지역 1번출구 앞\n",
              "26            LIGA 아파트 앞\n",
              "27       잠실나루역 (2번 출구 쪽)\n",
              "28              가양역 8번출구\n",
              "29                   수색역\n",
              "Name: 대여 대여소명, dtype: object"
            ]
          },
          "metadata": {
            "tags": []
          },
          "execution_count": 26
        }
      ]
    },
    {
      "cell_type": "markdown",
      "metadata": {
        "id": "Hj7cwiWb5Zs-"
      },
      "source": [
        "**2-2 ?, 한자 전처리**"
      ]
    },
    {
      "cell_type": "code",
      "metadata": {
        "id": "MN6Q-jY-7-po"
      },
      "source": [
        "k = []\n",
        "for i in range(len(df)):\n",
        "   if '?' in df['대여 대여소명'][i]:\n",
        "     k.append(i)\n",
        "    #  print(i)"
      ],
      "execution_count": null,
      "outputs": []
    },
    {
      "cell_type": "code",
      "metadata": {
        "id": "v8mKfxzm-icK"
      },
      "source": [
        "j = []\n",
        "for i in range(len(df)):\n",
        "   if '?' in df['반납대여소명'][i]:\n",
        "     j.append(i)\n",
        "    #  print(i)"
      ],
      "execution_count": null,
      "outputs": []
    },
    {
      "cell_type": "code",
      "metadata": {
        "colab": {
          "base_uri": "https://localhost:8080/"
        },
        "id": "OblmjeaUIHdt",
        "outputId": "ad321ad2-4827-469c-ac2b-263f489c9c50"
      },
      "source": [
        "len(k)"
      ],
      "execution_count": null,
      "outputs": [
        {
          "output_type": "execute_result",
          "data": {
            "text/plain": [
              "11114"
            ]
          },
          "metadata": {
            "tags": []
          },
          "execution_count": 18
        }
      ]
    },
    {
      "cell_type": "code",
      "metadata": {
        "id": "dlILqiet_dUy"
      },
      "source": [
        "regex = re.compile('([一-龥])')\n",
        "p = []\n",
        "for i in range(len(df)):\n",
        "  text = df['대여 대여소명'][i]\n",
        "  matchobj = regex.search(text)\n",
        "  if str(type(matchobj)) == \"<class 're.Match'>\":\n",
        "     p.append(i)\n"
      ],
      "execution_count": null,
      "outputs": []
    },
    {
      "cell_type": "code",
      "metadata": {
        "id": "2cAmiyMRJIdn"
      },
      "source": [
        "regex = re.compile('([一-龥])')\n",
        "o = []\n",
        "for i in range(len(df)):\n",
        "  text = df['반납대여소명'][i]\n",
        "  matchobj = regex.search(text)\n",
        "  if str(type(matchobj)) == \"<class 're.Match'>\":\n",
        "     o.append(i)\n"
      ],
      "execution_count": null,
      "outputs": []
    },
    {
      "cell_type": "code",
      "metadata": {
        "id": "YYIEyTuO4Xmo"
      },
      "source": [
        "deleteindex= k+j+p+o"
      ],
      "execution_count": null,
      "outputs": []
    },
    {
      "cell_type": "code",
      "metadata": {
        "id": "BrkJLQU8NV-W"
      },
      "source": [
        "df = df.drop(index=deleteindex, axis=0)"
      ],
      "execution_count": null,
      "outputs": []
    },
    {
      "cell_type": "code",
      "metadata": {
        "colab": {
          "base_uri": "https://localhost:8080/"
        },
        "id": "BE-UADW1QQBZ",
        "outputId": "45050fe9-9f5f-4f6e-8d83-87be2027108a"
      },
      "source": [
        "len(df)"
      ],
      "execution_count": null,
      "outputs": [
        {
          "output_type": "execute_result",
          "data": {
            "text/plain": [
              "17754376"
            ]
          },
          "metadata": {
            "tags": []
          },
          "execution_count": 34
        }
      ]
    },
    {
      "cell_type": "code",
      "metadata": {
        "id": "6bXDqpia3zdZ"
      },
      "source": [
        "df = pd.read_csv('/content/gdrive/MyDrive/seokjun.csv', encoding='cp949')"
      ],
      "execution_count": 6,
      "outputs": []
    },
    {
      "cell_type": "markdown",
      "metadata": {
        "id": "sN0Q4oKZ3sn6"
      },
      "source": [
        ""
      ]
    },
    {
      "cell_type": "code",
      "metadata": {
        "id": "vjGLc1jZ2HRu",
        "colab": {
          "base_uri": "https://localhost:8080/"
        },
        "outputId": "9b81ee89-082e-4f48-b1fc-a6b6aab6ba85"
      },
      "source": [
        "df.info()"
      ],
      "execution_count": 7,
      "outputs": [
        {
          "output_type": "stream",
          "text": [
            "<class 'pandas.core.frame.DataFrame'>\n",
            "RangeIndex: 17754376 entries, 0 to 17754375\n",
            "Data columns (total 9 columns):\n",
            " #   Column    Dtype  \n",
            "---  ------    -----  \n",
            " 0   자전거번호     object \n",
            " 1   대여일시      object \n",
            " 2   대여 대여소번호  int64  \n",
            " 3   대여 대여소명   object \n",
            " 4   반납일시      object \n",
            " 5   반납대여소번호   int64  \n",
            " 6   반납대여소명    object \n",
            " 7   이용시간      float64\n",
            " 8   이용거리      float64\n",
            "dtypes: float64(2), int64(2), object(5)\n",
            "memory usage: 1.2+ GB\n"
          ],
          "name": "stdout"
        }
      ]
    },
    {
      "cell_type": "code",
      "metadata": {
        "id": "n9Tecmlt2ZlT",
        "colab": {
          "base_uri": "https://localhost:8080/"
        },
        "outputId": "c0e198da-a23e-4b7c-ba64-4df89db9b8a9"
      },
      "source": [
        "df.isna().sum()"
      ],
      "execution_count": 8,
      "outputs": [
        {
          "output_type": "execute_result",
          "data": {
            "text/plain": [
              "자전거번호       0\n",
              "대여일시        0\n",
              "대여 대여소번호    0\n",
              "대여 대여소명     0\n",
              "반납일시        0\n",
              "반납대여소번호     0\n",
              "반납대여소명      0\n",
              "이용시간        0\n",
              "이용거리        0\n",
              "dtype: int64"
            ]
          },
          "metadata": {
            "tags": []
          },
          "execution_count": 8
        }
      ]
    },
    {
      "cell_type": "code",
      "metadata": {
        "id": "dhHwQxiN4sgV"
      },
      "source": [
        "df = df.astype({\"이용시간\":int, \"이용거리\":int})"
      ],
      "execution_count": 9,
      "outputs": []
    },
    {
      "cell_type": "code",
      "metadata": {
        "colab": {
          "base_uri": "https://localhost:8080/",
          "height": 204
        },
        "id": "XjH9NlnJ4_Rn",
        "outputId": "c36a1191-3c11-48b2-be58-6bd0eb7f6f38"
      },
      "source": [
        "df.head()"
      ],
      "execution_count": 10,
      "outputs": [
        {
          "output_type": "execute_result",
          "data": {
            "text/html": [
              "<div>\n",
              "<style scoped>\n",
              "    .dataframe tbody tr th:only-of-type {\n",
              "        vertical-align: middle;\n",
              "    }\n",
              "\n",
              "    .dataframe tbody tr th {\n",
              "        vertical-align: top;\n",
              "    }\n",
              "\n",
              "    .dataframe thead th {\n",
              "        text-align: right;\n",
              "    }\n",
              "</style>\n",
              "<table border=\"1\" class=\"dataframe\">\n",
              "  <thead>\n",
              "    <tr style=\"text-align: right;\">\n",
              "      <th></th>\n",
              "      <th>자전거번호</th>\n",
              "      <th>대여일시</th>\n",
              "      <th>대여 대여소번호</th>\n",
              "      <th>대여 대여소명</th>\n",
              "      <th>반납일시</th>\n",
              "      <th>반납대여소번호</th>\n",
              "      <th>반납대여소명</th>\n",
              "      <th>이용시간</th>\n",
              "      <th>이용거리</th>\n",
              "    </tr>\n",
              "  </thead>\n",
              "  <tbody>\n",
              "    <tr>\n",
              "      <th>0</th>\n",
              "      <td>SPB-04061</td>\n",
              "      <td>2020-01-01 00:01:04</td>\n",
              "      <td>429</td>\n",
              "      <td>송도병원</td>\n",
              "      <td>2020-01-01 00:04:21</td>\n",
              "      <td>372</td>\n",
              "      <td>약수역 3번출구 뒤</td>\n",
              "      <td>2</td>\n",
              "      <td>0</td>\n",
              "    </tr>\n",
              "    <tr>\n",
              "      <th>1</th>\n",
              "      <td>SPB-06686</td>\n",
              "      <td>2020-01-01 00:02:53</td>\n",
              "      <td>1637</td>\n",
              "      <td>KT 노원점 건물 앞</td>\n",
              "      <td>2020-01-01 00:04:48</td>\n",
              "      <td>1656</td>\n",
              "      <td>중앙하이츠 아파트 입구</td>\n",
              "      <td>1</td>\n",
              "      <td>350</td>\n",
              "    </tr>\n",
              "    <tr>\n",
              "      <th>2</th>\n",
              "      <td>SPB-15937</td>\n",
              "      <td>2020-01-01 00:01:21</td>\n",
              "      <td>1924</td>\n",
              "      <td>삼부르네상스파크빌</td>\n",
              "      <td>2020-01-01 00:05:51</td>\n",
              "      <td>1955</td>\n",
              "      <td>디지털입구 교차로</td>\n",
              "      <td>4</td>\n",
              "      <td>800</td>\n",
              "    </tr>\n",
              "    <tr>\n",
              "      <th>3</th>\n",
              "      <td>SPB-14805</td>\n",
              "      <td>2020-01-01 00:03:12</td>\n",
              "      <td>437</td>\n",
              "      <td>대흥역 1번출구</td>\n",
              "      <td>2020-01-01 00:05:54</td>\n",
              "      <td>126</td>\n",
              "      <td>서강대 후문 옆</td>\n",
              "      <td>2</td>\n",
              "      <td>0</td>\n",
              "    </tr>\n",
              "    <tr>\n",
              "      <th>4</th>\n",
              "      <td>SPB-09038</td>\n",
              "      <td>2020-01-01 00:01:11</td>\n",
              "      <td>1168</td>\n",
              "      <td>마곡엠밸리10단지 앞</td>\n",
              "      <td>2020-01-01 00:05:57</td>\n",
              "      <td>1152</td>\n",
              "      <td>마곡역교차로</td>\n",
              "      <td>4</td>\n",
              "      <td>660</td>\n",
              "    </tr>\n",
              "  </tbody>\n",
              "</table>\n",
              "</div>"
            ],
            "text/plain": [
              "       자전거번호                 대여일시  대여 대여소번호  ...        반납대여소명 이용시간  이용거리\n",
              "0  SPB-04061  2020-01-01 00:01:04       429  ...    약수역 3번출구 뒤    2     0\n",
              "1  SPB-06686  2020-01-01 00:02:53      1637  ...  중앙하이츠 아파트 입구    1   350\n",
              "2  SPB-15937  2020-01-01 00:01:21      1924  ...     디지털입구 교차로    4   800\n",
              "3  SPB-14805  2020-01-01 00:03:12       437  ...      서강대 후문 옆    2     0\n",
              "4  SPB-09038  2020-01-01 00:01:11      1168  ...        마곡역교차로    4   660\n",
              "\n",
              "[5 rows x 9 columns]"
            ]
          },
          "metadata": {
            "tags": []
          },
          "execution_count": 10
        }
      ]
    },
    {
      "cell_type": "code",
      "metadata": {
        "colab": {
          "base_uri": "https://localhost:8080/"
        },
        "id": "z_QqCJhM5Gj5",
        "outputId": "c4705bf5-f4a1-4418-d8ca-cc499f9a4455"
      },
      "source": [
        "# 대여 대여소 문제 없음\n",
        "df[['대여 대여소번호','대여 대여소명']].value_counts()"
      ],
      "execution_count": 32,
      "outputs": [
        {
          "output_type": "execute_result",
          "data": {
            "text/plain": [
              "대여 대여소번호  대여 대여소명                \n",
              "502       뚝섬유원지역 1번출구 앞              106990\n",
              "207       여의나루역 1번출구 앞               103268\n",
              "2102      봉림교 교통섬                     67160\n",
              "152       마포구민체육센터 앞                  66718\n",
              "2219      고속터미널역 8-1번, 8-2번 출구 사이     54695\n",
              "                                      ...  \n",
              "4627      효창공원앞역 5번출구 옆                   6\n",
              "4604      원효로다목적체육관 앞                     4\n",
              "4617      동원베네스트 건너편                      3\n",
              "3703      신성교회 앞                          1\n",
              "2539      대한무역투자진흥공사 KOTRA 앞              1\n",
              "Length: 2034, dtype: int64"
            ]
          },
          "metadata": {
            "tags": []
          },
          "execution_count": 32
        }
      ]
    },
    {
      "cell_type": "code",
      "metadata": {
        "colab": {
          "base_uri": "https://localhost:8080/"
        },
        "id": "5qn4AE3p99GS",
        "outputId": "0f159d3a-64ee-4f55-881c-ae97b3c7e15d"
      },
      "source": [
        "# 반납 대여소 문제 없음\n",
        "df[['반납대여소번호','반납대여소명']].value_counts()"
      ],
      "execution_count": 31,
      "outputs": [
        {
          "output_type": "execute_result",
          "data": {
            "text/plain": [
              "반납대여소번호  반납대여소명                 \n",
              "502      뚝섬유원지역 1번출구 앞              119696\n",
              "207      여의나루역 1번출구 앞               106022\n",
              "152      마포구민체육센터 앞                  73678\n",
              "2102     봉림교 교통섬                     67625\n",
              "2219     고속터미널역 8-1번, 8-2번 출구 사이     57778\n",
              "                                     ...  \n",
              "4616     신용산지하차도 앞                       4\n",
              "3714     송천센트레빌                          3\n",
              "3703     신성교회 앞                          2\n",
              "4602     숙명여대앞 버스정류소 주변                  2\n",
              "2539     대한무역투자진흥공사 KOTRA 앞              1\n",
              "Length: 2034, dtype: int64"
            ]
          },
          "metadata": {
            "tags": []
          },
          "execution_count": 31
        }
      ]
    },
    {
      "cell_type": "code",
      "metadata": {
        "id": "YGjcxFp67mss"
      },
      "source": [
        "rent_house = rent_house[rent_house['대여소 번호'].notna()]"
      ],
      "execution_count": 17,
      "outputs": []
    },
    {
      "cell_type": "code",
      "metadata": {
        "id": "x6sEbfxP7w00"
      },
      "source": [
        "rent_house = rent_house.reset_index(drop=True)"
      ],
      "execution_count": 22,
      "outputs": []
    },
    {
      "cell_type": "code",
      "metadata": {
        "id": "dDDtvnGc8hS-"
      },
      "source": [
        "rent_house = rent_house.astype({\"대여소 번호\":int})"
      ],
      "execution_count": 25,
      "outputs": []
    },
    {
      "cell_type": "code",
      "metadata": {
        "colab": {
          "base_uri": "https://localhost:8080/",
          "height": 80
        },
        "id": "FeQYWWWn88mc",
        "outputId": "dfb0d7af-cc18-4fcd-cc60-e47810f2e1a3"
      },
      "source": [
        "rent_house[rent_house[\"대여소 명\"] == \"대한무역투자진흥공사 KOTRA 앞\"]"
      ],
      "execution_count": 30,
      "outputs": [
        {
          "output_type": "execute_result",
          "data": {
            "text/html": [
              "<div>\n",
              "<style scoped>\n",
              "    .dataframe tbody tr th:only-of-type {\n",
              "        vertical-align: middle;\n",
              "    }\n",
              "\n",
              "    .dataframe tbody tr th {\n",
              "        vertical-align: top;\n",
              "    }\n",
              "\n",
              "    .dataframe thead th {\n",
              "        text-align: right;\n",
              "    }\n",
              "</style>\n",
              "<table border=\"1\" class=\"dataframe\">\n",
              "  <thead>\n",
              "    <tr style=\"text-align: right;\">\n",
              "      <th></th>\n",
              "      <th>대여소 번호</th>\n",
              "      <th>대여소 명</th>\n",
              "      <th>위치</th>\n",
              "      <th>상세주소</th>\n",
              "      <th>위도</th>\n",
              "      <th>경도</th>\n",
              "      <th>설치 시기</th>\n",
              "      <th>설치 형태</th>\n",
              "      <th>거치 대수</th>\n",
              "      <th>운영 방식</th>\n",
              "    </tr>\n",
              "  </thead>\n",
              "  <tbody>\n",
              "    <tr>\n",
              "      <th>1809</th>\n",
              "      <td>2539</td>\n",
              "      <td>대한무역투자진흥공사 KOTRA 앞</td>\n",
              "      <td>서초구</td>\n",
              "      <td>서초구 헌릉로 13</td>\n",
              "      <td>37.464897</td>\n",
              "      <td>127.044182</td>\n",
              "      <td>2020-02-19</td>\n",
              "      <td>NaN</td>\n",
              "      <td>10</td>\n",
              "      <td>QR</td>\n",
              "    </tr>\n",
              "  </tbody>\n",
              "</table>\n",
              "</div>"
            ],
            "text/plain": [
              "      대여소 번호               대여소 명   위치        상세주소  ...       설치 시기 설치 형태 거치 대수 운영 방식\n",
              "1809    2539  대한무역투자진흥공사 KOTRA 앞  서초구  서초구 헌릉로 13  ...  2020-02-19   NaN   10     QR\n",
              "\n",
              "[1 rows x 10 columns]"
            ]
          },
          "metadata": {
            "tags": []
          },
          "execution_count": 30
        }
      ]
    },
    {
      "cell_type": "markdown",
      "metadata": {
        "id": "ja7GEkuY-_UB"
      },
      "source": [
        "# 결측치 제거 완료 데이터 생성 ( missing_value_drop_data.csv )"
      ]
    },
    {
      "cell_type": "code",
      "metadata": {
        "colab": {
          "base_uri": "https://localhost:8080/",
          "height": 204
        },
        "id": "D5V4GTI69bQk",
        "outputId": "03573305-08ae-4813-aae8-f3229afa1aa1"
      },
      "source": [
        "df.head()"
      ],
      "execution_count": 33,
      "outputs": [
        {
          "output_type": "execute_result",
          "data": {
            "text/html": [
              "<div>\n",
              "<style scoped>\n",
              "    .dataframe tbody tr th:only-of-type {\n",
              "        vertical-align: middle;\n",
              "    }\n",
              "\n",
              "    .dataframe tbody tr th {\n",
              "        vertical-align: top;\n",
              "    }\n",
              "\n",
              "    .dataframe thead th {\n",
              "        text-align: right;\n",
              "    }\n",
              "</style>\n",
              "<table border=\"1\" class=\"dataframe\">\n",
              "  <thead>\n",
              "    <tr style=\"text-align: right;\">\n",
              "      <th></th>\n",
              "      <th>자전거번호</th>\n",
              "      <th>대여일시</th>\n",
              "      <th>대여 대여소번호</th>\n",
              "      <th>대여 대여소명</th>\n",
              "      <th>반납일시</th>\n",
              "      <th>반납대여소번호</th>\n",
              "      <th>반납대여소명</th>\n",
              "      <th>이용시간</th>\n",
              "      <th>이용거리</th>\n",
              "    </tr>\n",
              "  </thead>\n",
              "  <tbody>\n",
              "    <tr>\n",
              "      <th>0</th>\n",
              "      <td>SPB-04061</td>\n",
              "      <td>2020-01-01 00:01:04</td>\n",
              "      <td>429</td>\n",
              "      <td>송도병원</td>\n",
              "      <td>2020-01-01 00:04:21</td>\n",
              "      <td>372</td>\n",
              "      <td>약수역 3번출구 뒤</td>\n",
              "      <td>2</td>\n",
              "      <td>0</td>\n",
              "    </tr>\n",
              "    <tr>\n",
              "      <th>1</th>\n",
              "      <td>SPB-06686</td>\n",
              "      <td>2020-01-01 00:02:53</td>\n",
              "      <td>1637</td>\n",
              "      <td>KT 노원점 건물 앞</td>\n",
              "      <td>2020-01-01 00:04:48</td>\n",
              "      <td>1656</td>\n",
              "      <td>중앙하이츠 아파트 입구</td>\n",
              "      <td>1</td>\n",
              "      <td>350</td>\n",
              "    </tr>\n",
              "    <tr>\n",
              "      <th>2</th>\n",
              "      <td>SPB-15937</td>\n",
              "      <td>2020-01-01 00:01:21</td>\n",
              "      <td>1924</td>\n",
              "      <td>삼부르네상스파크빌</td>\n",
              "      <td>2020-01-01 00:05:51</td>\n",
              "      <td>1955</td>\n",
              "      <td>디지털입구 교차로</td>\n",
              "      <td>4</td>\n",
              "      <td>800</td>\n",
              "    </tr>\n",
              "    <tr>\n",
              "      <th>3</th>\n",
              "      <td>SPB-14805</td>\n",
              "      <td>2020-01-01 00:03:12</td>\n",
              "      <td>437</td>\n",
              "      <td>대흥역 1번출구</td>\n",
              "      <td>2020-01-01 00:05:54</td>\n",
              "      <td>126</td>\n",
              "      <td>서강대 후문 옆</td>\n",
              "      <td>2</td>\n",
              "      <td>0</td>\n",
              "    </tr>\n",
              "    <tr>\n",
              "      <th>4</th>\n",
              "      <td>SPB-09038</td>\n",
              "      <td>2020-01-01 00:01:11</td>\n",
              "      <td>1168</td>\n",
              "      <td>마곡엠밸리10단지 앞</td>\n",
              "      <td>2020-01-01 00:05:57</td>\n",
              "      <td>1152</td>\n",
              "      <td>마곡역교차로</td>\n",
              "      <td>4</td>\n",
              "      <td>660</td>\n",
              "    </tr>\n",
              "  </tbody>\n",
              "</table>\n",
              "</div>"
            ],
            "text/plain": [
              "       자전거번호                 대여일시  대여 대여소번호  ...        반납대여소명 이용시간  이용거리\n",
              "0  SPB-04061  2020-01-01 00:01:04       429  ...    약수역 3번출구 뒤    2     0\n",
              "1  SPB-06686  2020-01-01 00:02:53      1637  ...  중앙하이츠 아파트 입구    1   350\n",
              "2  SPB-15937  2020-01-01 00:01:21      1924  ...     디지털입구 교차로    4   800\n",
              "3  SPB-14805  2020-01-01 00:03:12       437  ...      서강대 후문 옆    2     0\n",
              "4  SPB-09038  2020-01-01 00:01:11      1168  ...        마곡역교차로    4   660\n",
              "\n",
              "[5 rows x 9 columns]"
            ]
          },
          "metadata": {
            "tags": []
          },
          "execution_count": 33
        }
      ]
    },
    {
      "cell_type": "code",
      "metadata": {
        "id": "wghdZKUQ_PRw"
      },
      "source": [
        "df.to_csv('/content/gdrive/MyDrive/missing_value_drop_data.csv',index=False, encoding=\"cp949\")"
      ],
      "execution_count": 35,
      "outputs": []
    },
    {
      "cell_type": "code",
      "metadata": {
        "id": "oEh344yo_rkA"
      },
      "source": [
        "rent_house.to_csv(\"/content/gdrive/MyDrive/rent_house.csv\",index=False, encoding=\"cp949\")"
      ],
      "execution_count": 37,
      "outputs": []
    },
    {
      "cell_type": "code",
      "metadata": {
        "id": "u1f3cffKAZVh"
      },
      "source": [
        ""
      ],
      "execution_count": null,
      "outputs": []
    }
  ]
}